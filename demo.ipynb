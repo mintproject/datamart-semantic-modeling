{
 "cells": [
  {
   "cell_type": "markdown",
   "metadata": {},
   "source": [
    "**1.** Run the following cells to setup the environment"
   ]
  },
  {
   "cell_type": "code",
   "execution_count": 2,
   "metadata": {},
   "outputs": [],
   "source": [
    "import requests, pandas as pd, json, copy\n",
    "from IPython.display import JSON, Image\n",
    "from requests.auth import HTTPBasicAuth"
   ]
  },
  {
   "cell_type": "code",
   "execution_count": 3,
   "metadata": {},
   "outputs": [],
   "source": [
    "URL = 'http://mira.isi.edu:8000'\n",
    "auth = HTTPBasicAuth('mint', 'm290sjafds8!')"
   ]
  },
  {
   "cell_type": "markdown",
   "metadata": {},
   "source": [
    "**2.** Load a dataset that we want to model, and show the content of the dataset.\n",
    "\n",
    "The dataset is supposed to be a [relational table](https://www.ibm.com/support/knowledgecenter/SSWU4L/Data/imc_Data/Data_q_a_watson_assistant/Relational_Tables371.html). If the data format is CSV, the first row is the header."
   ]
  },
  {
   "cell_type": "code",
   "execution_count": 4,
   "metadata": {},
   "outputs": [
    {
     "data": {
      "text/html": [
       "<div>\n",
       "<style scoped>\n",
       "    .dataframe tbody tr th:only-of-type {\n",
       "        vertical-align: middle;\n",
       "    }\n",
       "\n",
       "    .dataframe tbody tr th {\n",
       "        vertical-align: top;\n",
       "    }\n",
       "\n",
       "    .dataframe thead th {\n",
       "        text-align: right;\n",
       "    }\n",
       "</style>\n",
       "<table border=\"1\" class=\"dataframe\">\n",
       "  <thead>\n",
       "    <tr style=\"text-align: right;\">\n",
       "      <th></th>\n",
       "      <th>Country Name</th>\n",
       "      <th>Unnamed: 1</th>\n",
       "      <th>Population, total</th>\n",
       "      <th>Life expectancy at birth, total (years)</th>\n",
       "      <th>GNI per capita, Atlas method (current US$)</th>\n",
       "      <th>GDP (current US$)</th>\n",
       "      <th>CO2 emissions (metric tons per capita)</th>\n",
       "    </tr>\n",
       "  </thead>\n",
       "  <tbody>\n",
       "    <tr>\n",
       "      <th>0</th>\n",
       "      <td>Ethiopia</td>\n",
       "      <td>1960</td>\n",
       "      <td>22151278.0</td>\n",
       "      <td>38.419</td>\n",
       "      <td>NaN</td>\n",
       "      <td>NaN</td>\n",
       "      <td>0.015892</td>\n",
       "    </tr>\n",
       "    <tr>\n",
       "      <th>1</th>\n",
       "      <td>Ethiopia</td>\n",
       "      <td>1961</td>\n",
       "      <td>22671191.0</td>\n",
       "      <td>39.082</td>\n",
       "      <td>NaN</td>\n",
       "      <td>NaN</td>\n",
       "      <td>0.015042</td>\n",
       "    </tr>\n",
       "    <tr>\n",
       "      <th>2</th>\n",
       "      <td>Ethiopia</td>\n",
       "      <td>1962</td>\n",
       "      <td>23221389.0</td>\n",
       "      <td>39.711</td>\n",
       "      <td>NaN</td>\n",
       "      <td>NaN</td>\n",
       "      <td>0.017055</td>\n",
       "    </tr>\n",
       "    <tr>\n",
       "      <th>3</th>\n",
       "      <td>Ethiopia</td>\n",
       "      <td>1963</td>\n",
       "      <td>23798430.0</td>\n",
       "      <td>40.290</td>\n",
       "      <td>NaN</td>\n",
       "      <td>NaN</td>\n",
       "      <td>0.017720</td>\n",
       "    </tr>\n",
       "    <tr>\n",
       "      <th>4</th>\n",
       "      <td>Ethiopia</td>\n",
       "      <td>1964</td>\n",
       "      <td>24397022.0</td>\n",
       "      <td>40.810</td>\n",
       "      <td>NaN</td>\n",
       "      <td>NaN</td>\n",
       "      <td>0.016684</td>\n",
       "    </tr>\n",
       "  </tbody>\n",
       "</table>\n",
       "</div>"
      ],
      "text/plain": [
       "  Country Name  Unnamed: 1  Population, total  \\\n",
       "0     Ethiopia        1960         22151278.0   \n",
       "1     Ethiopia        1961         22671191.0   \n",
       "2     Ethiopia        1962         23221389.0   \n",
       "3     Ethiopia        1963         23798430.0   \n",
       "4     Ethiopia        1964         24397022.0   \n",
       "\n",
       "   Life expectancy at birth, total (years)  \\\n",
       "0                                   38.419   \n",
       "1                                   39.082   \n",
       "2                                   39.711   \n",
       "3                                   40.290   \n",
       "4                                   40.810   \n",
       "\n",
       "   GNI per capita, Atlas method (current US$)  GDP (current US$)  \\\n",
       "0                                         NaN                NaN   \n",
       "1                                         NaN                NaN   \n",
       "2                                         NaN                NaN   \n",
       "3                                         NaN                NaN   \n",
       "4                                         NaN                NaN   \n",
       "\n",
       "   CO2 emissions (metric tons per capita)  \n",
       "0                                0.015892  \n",
       "1                                0.015042  \n",
       "2                                0.017055  \n",
       "3                                0.017720  \n",
       "4                                0.016684  "
      ]
     },
     "execution_count": 4,
     "metadata": {},
     "output_type": "execute_result"
    }
   ],
   "source": [
    "df = pd.read_csv('./examples/ethiopia_dashboard.csv', header=0)\n",
    "df.head(5)"
   ]
  },
  {
   "cell_type": "markdown",
   "metadata": {},
   "source": [
    "**3.** To send the table to the API for annotation, we need to convert the original table into a JSON format below:\n",
    "```json\n",
    "{\n",
    "    \"ontologies\": [\"http://wikiba.se/ontology#\"],\n",
    "    \"source\": [\n",
    "        {\"name\": \"<column name>\", \"values\": [\"<value of the column in first row>\", \"<value of the column in second row>\", \"...\"]\n",
    "    ]\n",
    "}\n",
    "```\n",
    "and send it in the body of a `POST` request to `/v1.1/annotate`"
   ]
  },
  {
   "cell_type": "code",
   "execution_count": 9,
   "metadata": {},
   "outputs": [],
   "source": [
    "payload = {\n",
    "    \"ontologies\": [\"http://wikiba.se/ontology#\"],\n",
    "    \"source\": [\n",
    "        {\"name\": \"\" if c.startswith(\"Unnamed:\") else c, \"values\": df[c].tolist()}\n",
    "        for c in df.columns\n",
    "    ]\n",
    "}\n",
    "resp = requests.post(URL + \"/v1.1/annotate\", json=payload, auth=auth)\n",
    "assert resp.status_code == 200"
   ]
  },
  {
   "cell_type": "markdown",
   "metadata": {},
   "source": [
    "**4.** The JSON response that the server returns are in the following format:\n",
    "```json\n",
    "{\n",
    "    \"sms\": [{\n",
    "        \"<ont_class_id>\": {\n",
    "            \"iri\": \"<uri of the ontology class>\",\n",
    "            \"properties\": [\n",
    "                [\"<ontology predicate 1>\", \"<column_index>\"], \n",
    "                [\"<ontology predicate 2>\", \"<column_index>\"]\n",
    "            ],\n",
    "            \"links\": [\n",
    "                [\"<ontology predicate 1>\", \"<ont_class_id>\"]\n",
    "            ]\n",
    "        }\n",
    "    }],\n",
    "    \"semantic_types\": [\n",
    "        [{\n",
    "            \"class\": \"<ontology class uri>\",\n",
    "            \"predicate\": \"<ontology predicate uri>\",\n",
    "            \"prob\": \"<probability of this semantic type (float)>\"\n",
    "        }]\n",
    "    ],\n",
    "    \"prefixes\": {\n",
    "        \"<prefix>\": \"<url>\"\n",
    "    }\n",
    "}\n",
    "```\n",
    "where:\n",
    "* `sms` is a list of predicted semantic models, sorted by the likelihood\n",
    "* `semantic_types` is a list containing predicted semantic types for each column. In particular, an ith item in the list is predicted semantic types of the ith column in the data source."
   ]
  },
  {
   "cell_type": "code",
   "execution_count": 11,
   "metadata": {},
   "outputs": [
    {
     "data": {
      "application/json": {
       "prefixes": {
        "dbpedia-owl": "http://dbpedia.org/ontology/",
        "dbpedia-resource": "http://dbpedia.org/resource/",
        "p": "http://www.wikidata.org/prop/",
        "pq": "http://www.wikidata.org/prop/qualifier/",
        "ps": "http://www.wikidata.org/prop/statement/",
        "rdfs": "http://www.w3.org/2000/01/rdf-schema#",
        "schema": "http://schema.org/",
        "wikibase": "http://wikiba.se/ontology#",
        "worldbank": "http://worldbank.org/ontology/indicator#"
       },
       "semantic_types": [
        [
         {
          "class": "wikibase:Item",
          "predicate": "rdfs:label",
          "prob": 0.99
         }
        ],
        [
         {
          "class": "wikibase:Statement",
          "predicate": "pq:P585",
          "prob": 1
         }
        ],
        [
         {
          "class": "wikibase:Statement",
          "predicate": "p:P1082",
          "prob": 1
         }
        ],
        [
         {
          "class": "wikibase:Statement",
          "predicate": "p:P2250",
          "prob": 1
         }
        ],
        [
         {
          "class": "wikibase:Statement",
          "predicate": "worldbank:NY.GNP.PCAP.CD",
          "prob": 0.87
         }
        ],
        [
         {
          "class": "wikibase:Statement",
          "predicate": "p:P4010",
          "prob": 0.87
         }
        ],
        [
         {
          "class": "wikibase:Statement",
          "predicate": "p:P5991",
          "prob": 1
         }
        ]
       ],
       "sms": [
        {
         "http://wikiba.se/ontology#Item1": {
          "iri": "http://wikiba.se/ontology#Item",
          "links": [
           [
            "p:P4010",
            "http://wikiba.se/ontology#Statement1"
           ],
           [
            "p:P5991",
            "http://wikiba.se/ontology#Statement2"
           ],
           [
            "p:P2250",
            "http://wikiba.se/ontology#Statement3"
           ],
           [
            "worldbank:NY.GNP.PCAP.CD",
            "http://wikiba.se/ontology#Statement4"
           ]
          ],
          "properties": [
           [
            "rdfs:label",
            0
           ]
          ]
         },
         "http://wikiba.se/ontology#Statement1": {
          "iri": "http://wikiba.se/ontology#Statement",
          "links": [],
          "properties": [
           [
            "pq:P585",
            1
           ],
           [
            "p:P4010",
            5
           ]
          ]
         },
         "http://wikiba.se/ontology#Statement2": {
          "iri": "http://wikiba.se/ontology#Statement",
          "links": [],
          "properties": [
           [
            "p:P1082",
            2
           ],
           [
            "p:P5991",
            6
           ]
          ]
         },
         "http://wikiba.se/ontology#Statement3": {
          "iri": "http://wikiba.se/ontology#Statement",
          "links": [],
          "properties": [
           [
            "p:P2250",
            3
           ]
          ]
         },
         "http://wikiba.se/ontology#Statement4": {
          "iri": "http://wikiba.se/ontology#Statement",
          "links": [],
          "properties": [
           [
            "worldbank:NY.GNP.PCAP.CD",
            4
           ]
          ]
         }
        },
        {
         "http://wikiba.se/ontology#Item1": {
          "iri": "http://wikiba.se/ontology#Item",
          "links": [
           [
            "p:P4010",
            "http://wikiba.se/ontology#Statement1"
           ],
           [
            "p:P5991",
            "http://wikiba.se/ontology#Statement2"
           ],
           [
            "p:P2250",
            "http://wikiba.se/ontology#Statement3"
           ],
           [
            "worldbank:NY.GNP.PCAP.CD",
            "http://wikiba.se/ontology#Statement4"
           ]
          ],
          "properties": [
           [
            "rdfs:label",
            0
           ]
          ]
         },
         "http://wikiba.se/ontology#Statement1": {
          "iri": "http://wikiba.se/ontology#Statement",
          "links": [],
          "properties": [
           [
            "pq:P585",
            1
           ],
           [
            "p:P4010",
            5
           ]
          ]
         },
         "http://wikiba.se/ontology#Statement2": {
          "iri": "http://wikiba.se/ontology#Statement",
          "links": [],
          "properties": [
           [
            "p:P1082",
            2
           ],
           [
            "p:P5991",
            6
           ]
          ]
         },
         "http://wikiba.se/ontology#Statement3": {
          "iri": "http://wikiba.se/ontology#Statement",
          "links": [],
          "properties": [
           [
            "p:P2250",
            3
           ]
          ]
         },
         "http://wikiba.se/ontology#Statement4": {
          "iri": "http://wikiba.se/ontology#Statement",
          "links": [],
          "properties": [
           [
            "worldbank:NY.GNP.PCAP.CD",
            4
           ]
          ]
         }
        },
        {
         "http://wikiba.se/ontology#Item1": {
          "iri": "http://wikiba.se/ontology#Item",
          "links": [
           [
            "p:P4010",
            "http://wikiba.se/ontology#Statement1"
           ],
           [
            "p:P5991",
            "http://wikiba.se/ontology#Statement2"
           ],
           [
            "p:P2250",
            "http://wikiba.se/ontology#Statement3"
           ],
           [
            "worldbank:NY.GNP.PCAP.CD",
            "http://wikiba.se/ontology#Statement4"
           ]
          ],
          "properties": [
           [
            "rdfs:label",
            0
           ]
          ]
         },
         "http://wikiba.se/ontology#Statement1": {
          "iri": "http://wikiba.se/ontology#Statement",
          "links": [],
          "properties": [
           [
            "pq:P585",
            1
           ],
           [
            "p:P4010",
            5
           ]
          ]
         },
         "http://wikiba.se/ontology#Statement2": {
          "iri": "http://wikiba.se/ontology#Statement",
          "links": [],
          "properties": [
           [
            "p:P1082",
            2
           ],
           [
            "p:P5991",
            6
           ]
          ]
         },
         "http://wikiba.se/ontology#Statement3": {
          "iri": "http://wikiba.se/ontology#Statement",
          "links": [],
          "properties": [
           [
            "p:P2250",
            3
           ]
          ]
         },
         "http://wikiba.se/ontology#Statement4": {
          "iri": "http://wikiba.se/ontology#Statement",
          "links": [],
          "properties": [
           [
            "worldbank:NY.GNP.PCAP.CD",
            4
           ]
          ]
         }
        },
        {
         "http://wikiba.se/ontology#Item1": {
          "iri": "http://wikiba.se/ontology#Item",
          "links": [
           [
            "p:P4010",
            "http://wikiba.se/ontology#Statement1"
           ],
           [
            "p:P5991",
            "http://wikiba.se/ontology#Statement2"
           ],
           [
            "p:P2250",
            "http://wikiba.se/ontology#Statement3"
           ],
           [
            "worldbank:NY.GNP.PCAP.CD",
            "http://wikiba.se/ontology#Statement4"
           ]
          ],
          "properties": [
           [
            "rdfs:label",
            0
           ]
          ]
         },
         "http://wikiba.se/ontology#Statement1": {
          "iri": "http://wikiba.se/ontology#Statement",
          "links": [],
          "properties": [
           [
            "pq:P585",
            1
           ],
           [
            "p:P4010",
            5
           ]
          ]
         },
         "http://wikiba.se/ontology#Statement2": {
          "iri": "http://wikiba.se/ontology#Statement",
          "links": [],
          "properties": [
           [
            "p:P1082",
            2
           ],
           [
            "p:P5991",
            6
           ]
          ]
         },
         "http://wikiba.se/ontology#Statement3": {
          "iri": "http://wikiba.se/ontology#Statement",
          "links": [],
          "properties": [
           [
            "p:P2250",
            3
           ]
          ]
         },
         "http://wikiba.se/ontology#Statement4": {
          "iri": "http://wikiba.se/ontology#Statement",
          "links": [],
          "properties": [
           [
            "worldbank:NY.GNP.PCAP.CD",
            4
           ]
          ]
         }
        },
        {
         "http://wikiba.se/ontology#Item1": {
          "iri": "http://wikiba.se/ontology#Item",
          "links": [
           [
            "p:P4010",
            "http://wikiba.se/ontology#Statement1"
           ],
           [
            "p:P5991",
            "http://wikiba.se/ontology#Statement2"
           ],
           [
            "p:P2250",
            "http://wikiba.se/ontology#Statement3"
           ],
           [
            "worldbank:NY.GNP.PCAP.CD",
            "http://wikiba.se/ontology#Statement4"
           ]
          ],
          "properties": [
           [
            "rdfs:label",
            0
           ]
          ]
         },
         "http://wikiba.se/ontology#Statement1": {
          "iri": "http://wikiba.se/ontology#Statement",
          "links": [],
          "properties": [
           [
            "pq:P585",
            1
           ],
           [
            "p:P4010",
            5
           ]
          ]
         },
         "http://wikiba.se/ontology#Statement2": {
          "iri": "http://wikiba.se/ontology#Statement",
          "links": [],
          "properties": [
           [
            "p:P1082",
            2
           ],
           [
            "p:P5991",
            6
           ]
          ]
         },
         "http://wikiba.se/ontology#Statement3": {
          "iri": "http://wikiba.se/ontology#Statement",
          "links": [],
          "properties": [
           [
            "p:P2250",
            3
           ]
          ]
         },
         "http://wikiba.se/ontology#Statement4": {
          "iri": "http://wikiba.se/ontology#Statement",
          "links": [],
          "properties": [
           [
            "worldbank:NY.GNP.PCAP.CD",
            4
           ]
          ]
         }
        },
        {
         "http://wikiba.se/ontology#Item1": {
          "iri": "http://wikiba.se/ontology#Item",
          "links": [
           [
            "p:P4010",
            "http://wikiba.se/ontology#Statement1"
           ],
           [
            "p:P5991",
            "http://wikiba.se/ontology#Statement2"
           ],
           [
            "p:P2250",
            "http://wikiba.se/ontology#Statement3"
           ],
           [
            "worldbank:NY.GNP.PCAP.CD",
            "http://wikiba.se/ontology#Statement4"
           ]
          ],
          "properties": [
           [
            "rdfs:label",
            0
           ]
          ]
         },
         "http://wikiba.se/ontology#Statement1": {
          "iri": "http://wikiba.se/ontology#Statement",
          "links": [],
          "properties": [
           [
            "pq:P585",
            1
           ],
           [
            "p:P4010",
            5
           ]
          ]
         },
         "http://wikiba.se/ontology#Statement2": {
          "iri": "http://wikiba.se/ontology#Statement",
          "links": [],
          "properties": [
           [
            "p:P1082",
            2
           ],
           [
            "p:P5991",
            6
           ]
          ]
         },
         "http://wikiba.se/ontology#Statement3": {
          "iri": "http://wikiba.se/ontology#Statement",
          "links": [],
          "properties": [
           [
            "p:P2250",
            3
           ]
          ]
         },
         "http://wikiba.se/ontology#Statement4": {
          "iri": "http://wikiba.se/ontology#Statement",
          "links": [],
          "properties": [
           [
            "worldbank:NY.GNP.PCAP.CD",
            4
           ]
          ]
         }
        },
        {
         "http://wikiba.se/ontology#Item1": {
          "iri": "http://wikiba.se/ontology#Item",
          "links": [
           [
            "p:P4010",
            "http://wikiba.se/ontology#Statement1"
           ],
           [
            "p:P5991",
            "http://wikiba.se/ontology#Statement2"
           ],
           [
            "p:P2250",
            "http://wikiba.se/ontology#Statement3"
           ],
           [
            "worldbank:NY.GNP.PCAP.CD",
            "http://wikiba.se/ontology#Statement4"
           ]
          ],
          "properties": [
           [
            "rdfs:label",
            0
           ]
          ]
         },
         "http://wikiba.se/ontology#Statement1": {
          "iri": "http://wikiba.se/ontology#Statement",
          "links": [],
          "properties": [
           [
            "pq:P585",
            1
           ],
           [
            "p:P4010",
            5
           ]
          ]
         },
         "http://wikiba.se/ontology#Statement2": {
          "iri": "http://wikiba.se/ontology#Statement",
          "links": [],
          "properties": [
           [
            "p:P1082",
            2
           ],
           [
            "p:P5991",
            6
           ]
          ]
         },
         "http://wikiba.se/ontology#Statement3": {
          "iri": "http://wikiba.se/ontology#Statement",
          "links": [],
          "properties": [
           [
            "p:P2250",
            3
           ]
          ]
         },
         "http://wikiba.se/ontology#Statement4": {
          "iri": "http://wikiba.se/ontology#Statement",
          "links": [],
          "properties": [
           [
            "worldbank:NY.GNP.PCAP.CD",
            4
           ]
          ]
         }
        },
        {
         "http://wikiba.se/ontology#Item1": {
          "iri": "http://wikiba.se/ontology#Item",
          "links": [
           [
            "p:P4010",
            "http://wikiba.se/ontology#Statement1"
           ],
           [
            "p:P5991",
            "http://wikiba.se/ontology#Statement2"
           ],
           [
            "p:P2250",
            "http://wikiba.se/ontology#Statement3"
           ],
           [
            "worldbank:NY.GNP.PCAP.CD",
            "http://wikiba.se/ontology#Statement4"
           ]
          ],
          "properties": [
           [
            "rdfs:label",
            0
           ]
          ]
         },
         "http://wikiba.se/ontology#Statement1": {
          "iri": "http://wikiba.se/ontology#Statement",
          "links": [],
          "properties": [
           [
            "pq:P585",
            1
           ],
           [
            "p:P4010",
            5
           ]
          ]
         },
         "http://wikiba.se/ontology#Statement2": {
          "iri": "http://wikiba.se/ontology#Statement",
          "links": [],
          "properties": [
           [
            "p:P1082",
            2
           ],
           [
            "p:P5991",
            6
           ]
          ]
         },
         "http://wikiba.se/ontology#Statement3": {
          "iri": "http://wikiba.se/ontology#Statement",
          "links": [],
          "properties": [
           [
            "p:P2250",
            3
           ]
          ]
         },
         "http://wikiba.se/ontology#Statement4": {
          "iri": "http://wikiba.se/ontology#Statement",
          "links": [],
          "properties": [
           [
            "worldbank:NY.GNP.PCAP.CD",
            4
           ]
          ]
         }
        },
        {
         "http://wikiba.se/ontology#Item1": {
          "iri": "http://wikiba.se/ontology#Item",
          "links": [
           [
            "p:P4010",
            "http://wikiba.se/ontology#Statement1"
           ],
           [
            "p:P2250",
            "http://wikiba.se/ontology#Statement2"
           ],
           [
            "worldbank:NY.GNP.PCAP.CD",
            "http://wikiba.se/ontology#Statement3"
           ],
           [
            "p:P5991",
            "http://wikiba.se/ontology#Statement4"
           ]
          ],
          "properties": [
           [
            "rdfs:label",
            0
           ]
          ]
         },
         "http://wikiba.se/ontology#Statement1": {
          "iri": "http://wikiba.se/ontology#Statement",
          "links": [],
          "properties": [
           [
            "pq:P585",
            1
           ],
           [
            "p:P1082",
            2
           ],
           [
            "p:P4010",
            5
           ]
          ]
         },
         "http://wikiba.se/ontology#Statement2": {
          "iri": "http://wikiba.se/ontology#Statement",
          "links": [],
          "properties": [
           [
            "p:P2250",
            3
           ]
          ]
         },
         "http://wikiba.se/ontology#Statement3": {
          "iri": "http://wikiba.se/ontology#Statement",
          "links": [],
          "properties": [
           [
            "worldbank:NY.GNP.PCAP.CD",
            4
           ]
          ]
         },
         "http://wikiba.se/ontology#Statement4": {
          "iri": "http://wikiba.se/ontology#Statement",
          "links": [],
          "properties": [
           [
            "p:P5991",
            6
           ]
          ]
         }
        },
        {
         "http://wikiba.se/ontology#Item1": {
          "iri": "http://wikiba.se/ontology#Item",
          "links": [
           [
            "p:P4010",
            "http://wikiba.se/ontology#Statement1"
           ],
           [
            "p:P2250",
            "http://wikiba.se/ontology#Statement2"
           ],
           [
            "worldbank:NY.GNP.PCAP.CD",
            "http://wikiba.se/ontology#Statement3"
           ],
           [
            "p:P5991",
            "http://wikiba.se/ontology#Statement4"
           ]
          ],
          "properties": [
           [
            "rdfs:label",
            0
           ]
          ]
         },
         "http://wikiba.se/ontology#Statement1": {
          "iri": "http://wikiba.se/ontology#Statement",
          "links": [],
          "properties": [
           [
            "pq:P585",
            1
           ],
           [
            "p:P1082",
            2
           ],
           [
            "p:P4010",
            5
           ]
          ]
         },
         "http://wikiba.se/ontology#Statement2": {
          "iri": "http://wikiba.se/ontology#Statement",
          "links": [],
          "properties": [
           [
            "p:P2250",
            3
           ]
          ]
         },
         "http://wikiba.se/ontology#Statement3": {
          "iri": "http://wikiba.se/ontology#Statement",
          "links": [],
          "properties": [
           [
            "worldbank:NY.GNP.PCAP.CD",
            4
           ]
          ]
         },
         "http://wikiba.se/ontology#Statement4": {
          "iri": "http://wikiba.se/ontology#Statement",
          "links": [],
          "properties": [
           [
            "p:P5991",
            6
           ]
          ]
         }
        },
        {
         "http://wikiba.se/ontology#Item1": {
          "iri": "http://wikiba.se/ontology#Item",
          "links": [
           [
            "p:P4010",
            "http://wikiba.se/ontology#Statement1"
           ],
           [
            "p:P2250",
            "http://wikiba.se/ontology#Statement2"
           ],
           [
            "worldbank:NY.GNP.PCAP.CD",
            "http://wikiba.se/ontology#Statement3"
           ],
           [
            "p:P5991",
            "http://wikiba.se/ontology#Statement4"
           ]
          ],
          "properties": [
           [
            "rdfs:label",
            0
           ]
          ]
         },
         "http://wikiba.se/ontology#Statement1": {
          "iri": "http://wikiba.se/ontology#Statement",
          "links": [],
          "properties": [
           [
            "pq:P585",
            1
           ],
           [
            "p:P1082",
            2
           ],
           [
            "p:P4010",
            5
           ]
          ]
         },
         "http://wikiba.se/ontology#Statement2": {
          "iri": "http://wikiba.se/ontology#Statement",
          "links": [],
          "properties": [
           [
            "p:P2250",
            3
           ]
          ]
         },
         "http://wikiba.se/ontology#Statement3": {
          "iri": "http://wikiba.se/ontology#Statement",
          "links": [],
          "properties": [
           [
            "worldbank:NY.GNP.PCAP.CD",
            4
           ]
          ]
         },
         "http://wikiba.se/ontology#Statement4": {
          "iri": "http://wikiba.se/ontology#Statement",
          "links": [],
          "properties": [
           [
            "p:P5991",
            6
           ]
          ]
         }
        },
        {
         "http://wikiba.se/ontology#Item1": {
          "iri": "http://wikiba.se/ontology#Item",
          "links": [
           [
            "p:P4010",
            "http://wikiba.se/ontology#Statement1"
           ],
           [
            "p:P2250",
            "http://wikiba.se/ontology#Statement2"
           ],
           [
            "worldbank:NY.GNP.PCAP.CD",
            "http://wikiba.se/ontology#Statement3"
           ],
           [
            "p:P5991",
            "http://wikiba.se/ontology#Statement4"
           ]
          ],
          "properties": [
           [
            "rdfs:label",
            0
           ]
          ]
         },
         "http://wikiba.se/ontology#Statement1": {
          "iri": "http://wikiba.se/ontology#Statement",
          "links": [],
          "properties": [
           [
            "pq:P585",
            1
           ],
           [
            "p:P1082",
            2
           ],
           [
            "p:P4010",
            5
           ]
          ]
         },
         "http://wikiba.se/ontology#Statement2": {
          "iri": "http://wikiba.se/ontology#Statement",
          "links": [],
          "properties": [
           [
            "p:P2250",
            3
           ]
          ]
         },
         "http://wikiba.se/ontology#Statement3": {
          "iri": "http://wikiba.se/ontology#Statement",
          "links": [],
          "properties": [
           [
            "worldbank:NY.GNP.PCAP.CD",
            4
           ]
          ]
         },
         "http://wikiba.se/ontology#Statement4": {
          "iri": "http://wikiba.se/ontology#Statement",
          "links": [],
          "properties": [
           [
            "p:P5991",
            6
           ]
          ]
         }
        },
        {
         "http://wikiba.se/ontology#Item1": {
          "iri": "http://wikiba.se/ontology#Item",
          "links": [
           [
            "p:P4010",
            "http://wikiba.se/ontology#Statement1"
           ],
           [
            "p:P2250",
            "http://wikiba.se/ontology#Statement2"
           ],
           [
            "worldbank:NY.GNP.PCAP.CD",
            "http://wikiba.se/ontology#Statement3"
           ],
           [
            "p:P5991",
            "http://wikiba.se/ontology#Statement4"
           ]
          ],
          "properties": [
           [
            "rdfs:label",
            0
           ]
          ]
         },
         "http://wikiba.se/ontology#Statement1": {
          "iri": "http://wikiba.se/ontology#Statement",
          "links": [],
          "properties": [
           [
            "pq:P585",
            1
           ],
           [
            "p:P1082",
            2
           ],
           [
            "p:P4010",
            5
           ]
          ]
         },
         "http://wikiba.se/ontology#Statement2": {
          "iri": "http://wikiba.se/ontology#Statement",
          "links": [],
          "properties": [
           [
            "p:P2250",
            3
           ]
          ]
         },
         "http://wikiba.se/ontology#Statement3": {
          "iri": "http://wikiba.se/ontology#Statement",
          "links": [],
          "properties": [
           [
            "worldbank:NY.GNP.PCAP.CD",
            4
           ]
          ]
         },
         "http://wikiba.se/ontology#Statement4": {
          "iri": "http://wikiba.se/ontology#Statement",
          "links": [],
          "properties": [
           [
            "p:P5991",
            6
           ]
          ]
         }
        },
        {
         "http://wikiba.se/ontology#Item1": {
          "iri": "http://wikiba.se/ontology#Item",
          "links": [
           [
            "p:P4010",
            "http://wikiba.se/ontology#Statement1"
           ],
           [
            "p:P2250",
            "http://wikiba.se/ontology#Statement2"
           ],
           [
            "worldbank:NY.GNP.PCAP.CD",
            "http://wikiba.se/ontology#Statement3"
           ],
           [
            "p:P5991",
            "http://wikiba.se/ontology#Statement4"
           ]
          ],
          "properties": [
           [
            "rdfs:label",
            0
           ]
          ]
         },
         "http://wikiba.se/ontology#Statement1": {
          "iri": "http://wikiba.se/ontology#Statement",
          "links": [],
          "properties": [
           [
            "pq:P585",
            1
           ],
           [
            "p:P1082",
            2
           ],
           [
            "p:P4010",
            5
           ]
          ]
         },
         "http://wikiba.se/ontology#Statement2": {
          "iri": "http://wikiba.se/ontology#Statement",
          "links": [],
          "properties": [
           [
            "p:P2250",
            3
           ]
          ]
         },
         "http://wikiba.se/ontology#Statement3": {
          "iri": "http://wikiba.se/ontology#Statement",
          "links": [],
          "properties": [
           [
            "worldbank:NY.GNP.PCAP.CD",
            4
           ]
          ]
         },
         "http://wikiba.se/ontology#Statement4": {
          "iri": "http://wikiba.se/ontology#Statement",
          "links": [],
          "properties": [
           [
            "p:P5991",
            6
           ]
          ]
         }
        },
        {
         "http://wikiba.se/ontology#Item1": {
          "iri": "http://wikiba.se/ontology#Item",
          "links": [
           [
            "p:P4010",
            "http://wikiba.se/ontology#Statement1"
           ],
           [
            "p:P2250",
            "http://wikiba.se/ontology#Statement2"
           ],
           [
            "worldbank:NY.GNP.PCAP.CD",
            "http://wikiba.se/ontology#Statement3"
           ],
           [
            "p:P5991",
            "http://wikiba.se/ontology#Statement4"
           ]
          ],
          "properties": [
           [
            "rdfs:label",
            0
           ]
          ]
         },
         "http://wikiba.se/ontology#Statement1": {
          "iri": "http://wikiba.se/ontology#Statement",
          "links": [],
          "properties": [
           [
            "pq:P585",
            1
           ],
           [
            "p:P1082",
            2
           ],
           [
            "p:P4010",
            5
           ]
          ]
         },
         "http://wikiba.se/ontology#Statement2": {
          "iri": "http://wikiba.se/ontology#Statement",
          "links": [],
          "properties": [
           [
            "p:P2250",
            3
           ]
          ]
         },
         "http://wikiba.se/ontology#Statement3": {
          "iri": "http://wikiba.se/ontology#Statement",
          "links": [],
          "properties": [
           [
            "worldbank:NY.GNP.PCAP.CD",
            4
           ]
          ]
         },
         "http://wikiba.se/ontology#Statement4": {
          "iri": "http://wikiba.se/ontology#Statement",
          "links": [],
          "properties": [
           [
            "p:P5991",
            6
           ]
          ]
         }
        },
        {
         "http://wikiba.se/ontology#Item1": {
          "iri": "http://wikiba.se/ontology#Item",
          "links": [
           [
            "p:P4010",
            "http://wikiba.se/ontology#Statement1"
           ],
           [
            "p:P2250",
            "http://wikiba.se/ontology#Statement2"
           ],
           [
            "worldbank:NY.GNP.PCAP.CD",
            "http://wikiba.se/ontology#Statement3"
           ],
           [
            "p:P5991",
            "http://wikiba.se/ontology#Statement4"
           ]
          ],
          "properties": [
           [
            "rdfs:label",
            0
           ]
          ]
         },
         "http://wikiba.se/ontology#Statement1": {
          "iri": "http://wikiba.se/ontology#Statement",
          "links": [],
          "properties": [
           [
            "pq:P585",
            1
           ],
           [
            "p:P1082",
            2
           ],
           [
            "p:P4010",
            5
           ]
          ]
         },
         "http://wikiba.se/ontology#Statement2": {
          "iri": "http://wikiba.se/ontology#Statement",
          "links": [],
          "properties": [
           [
            "p:P2250",
            3
           ]
          ]
         },
         "http://wikiba.se/ontology#Statement3": {
          "iri": "http://wikiba.se/ontology#Statement",
          "links": [],
          "properties": [
           [
            "worldbank:NY.GNP.PCAP.CD",
            4
           ]
          ]
         },
         "http://wikiba.se/ontology#Statement4": {
          "iri": "http://wikiba.se/ontology#Statement",
          "links": [],
          "properties": [
           [
            "p:P5991",
            6
           ]
          ]
         }
        },
        {
         "http://wikiba.se/ontology#Item1": {
          "iri": "http://wikiba.se/ontology#Item",
          "links": [
           [
            "p:P4010",
            "http://wikiba.se/ontology#Statement1"
           ],
           [
            "p:P2250",
            "http://wikiba.se/ontology#Statement2"
           ],
           [
            "worldbank:NY.GNP.PCAP.CD",
            "http://wikiba.se/ontology#Statement3"
           ],
           [
            "p:P5991",
            "http://wikiba.se/ontology#Statement4"
           ]
          ],
          "properties": [
           [
            "rdfs:label",
            0
           ]
          ]
         },
         "http://wikiba.se/ontology#Statement1": {
          "iri": "http://wikiba.se/ontology#Statement",
          "links": [],
          "properties": [
           [
            "pq:P585",
            1
           ],
           [
            "p:P1082",
            2
           ],
           [
            "p:P4010",
            5
           ]
          ]
         },
         "http://wikiba.se/ontology#Statement2": {
          "iri": "http://wikiba.se/ontology#Statement",
          "links": [],
          "properties": [
           [
            "p:P2250",
            3
           ]
          ]
         },
         "http://wikiba.se/ontology#Statement3": {
          "iri": "http://wikiba.se/ontology#Statement",
          "links": [],
          "properties": [
           [
            "worldbank:NY.GNP.PCAP.CD",
            4
           ]
          ]
         },
         "http://wikiba.se/ontology#Statement4": {
          "iri": "http://wikiba.se/ontology#Statement",
          "links": [],
          "properties": [
           [
            "p:P5991",
            6
           ]
          ]
         }
        },
        {
         "http://wikiba.se/ontology#Item1": {
          "iri": "http://wikiba.se/ontology#Item",
          "links": [
           [
            "p:P4010",
            "http://wikiba.se/ontology#Statement1"
           ],
           [
            "p:P2250",
            "http://wikiba.se/ontology#Statement2"
           ],
           [
            "worldbank:NY.GNP.PCAP.CD",
            "http://wikiba.se/ontology#Statement3"
           ],
           [
            "p:P5991",
            "http://wikiba.se/ontology#Statement4"
           ]
          ],
          "properties": [
           [
            "rdfs:label",
            0
           ]
          ]
         },
         "http://wikiba.se/ontology#Statement1": {
          "iri": "http://wikiba.se/ontology#Statement",
          "links": [],
          "properties": [
           [
            "pq:P585",
            1
           ],
           [
            "p:P1082",
            2
           ],
           [
            "p:P4010",
            5
           ]
          ]
         },
         "http://wikiba.se/ontology#Statement2": {
          "iri": "http://wikiba.se/ontology#Statement",
          "links": [],
          "properties": [
           [
            "p:P2250",
            3
           ]
          ]
         },
         "http://wikiba.se/ontology#Statement3": {
          "iri": "http://wikiba.se/ontology#Statement",
          "links": [],
          "properties": [
           [
            "worldbank:NY.GNP.PCAP.CD",
            4
           ]
          ]
         },
         "http://wikiba.se/ontology#Statement4": {
          "iri": "http://wikiba.se/ontology#Statement",
          "links": [],
          "properties": [
           [
            "p:P5991",
            6
           ]
          ]
         }
        },
        {
         "http://wikiba.se/ontology#Item1": {
          "iri": "http://wikiba.se/ontology#Item",
          "links": [
           [
            "p:P4010",
            "http://wikiba.se/ontology#Statement1"
           ],
           [
            "p:P2250",
            "http://wikiba.se/ontology#Statement2"
           ],
           [
            "worldbank:NY.GNP.PCAP.CD",
            "http://wikiba.se/ontology#Statement3"
           ],
           [
            "p:P5991",
            "http://wikiba.se/ontology#Statement4"
           ]
          ],
          "properties": [
           [
            "rdfs:label",
            0
           ]
          ]
         },
         "http://wikiba.se/ontology#Statement1": {
          "iri": "http://wikiba.se/ontology#Statement",
          "links": [],
          "properties": [
           [
            "pq:P585",
            1
           ],
           [
            "p:P1082",
            2
           ],
           [
            "p:P4010",
            5
           ]
          ]
         },
         "http://wikiba.se/ontology#Statement2": {
          "iri": "http://wikiba.se/ontology#Statement",
          "links": [],
          "properties": [
           [
            "p:P2250",
            3
           ]
          ]
         },
         "http://wikiba.se/ontology#Statement3": {
          "iri": "http://wikiba.se/ontology#Statement",
          "links": [],
          "properties": [
           [
            "worldbank:NY.GNP.PCAP.CD",
            4
           ]
          ]
         },
         "http://wikiba.se/ontology#Statement4": {
          "iri": "http://wikiba.se/ontology#Statement",
          "links": [],
          "properties": [
           [
            "p:P5991",
            6
           ]
          ]
         }
        },
        {
         "http://wikiba.se/ontology#Item1": {
          "iri": "http://wikiba.se/ontology#Item",
          "links": [
           [
            "p:P4010",
            "http://wikiba.se/ontology#Statement1"
           ],
           [
            "p:P2250",
            "http://wikiba.se/ontology#Statement2"
           ],
           [
            "worldbank:NY.GNP.PCAP.CD",
            "http://wikiba.se/ontology#Statement3"
           ],
           [
            "p:P5991",
            "http://wikiba.se/ontology#Statement4"
           ]
          ],
          "properties": [
           [
            "rdfs:label",
            0
           ]
          ]
         },
         "http://wikiba.se/ontology#Statement1": {
          "iri": "http://wikiba.se/ontology#Statement",
          "links": [],
          "properties": [
           [
            "pq:P585",
            1
           ],
           [
            "p:P1082",
            2
           ],
           [
            "p:P4010",
            5
           ]
          ]
         },
         "http://wikiba.se/ontology#Statement2": {
          "iri": "http://wikiba.se/ontology#Statement",
          "links": [],
          "properties": [
           [
            "p:P2250",
            3
           ]
          ]
         },
         "http://wikiba.se/ontology#Statement3": {
          "iri": "http://wikiba.se/ontology#Statement",
          "links": [],
          "properties": [
           [
            "worldbank:NY.GNP.PCAP.CD",
            4
           ]
          ]
         },
         "http://wikiba.se/ontology#Statement4": {
          "iri": "http://wikiba.se/ontology#Statement",
          "links": [],
          "properties": [
           [
            "p:P5991",
            6
           ]
          ]
         }
        },
        {
         "http://wikiba.se/ontology#Item1": {
          "iri": "http://wikiba.se/ontology#Item",
          "links": [
           [
            "p:P4010",
            "http://wikiba.se/ontology#Statement1"
           ],
           [
            "p:P2250",
            "http://wikiba.se/ontology#Statement2"
           ],
           [
            "worldbank:NY.GNP.PCAP.CD",
            "http://wikiba.se/ontology#Statement3"
           ],
           [
            "p:P5991",
            "http://wikiba.se/ontology#Statement4"
           ]
          ],
          "properties": [
           [
            "rdfs:label",
            0
           ]
          ]
         },
         "http://wikiba.se/ontology#Statement1": {
          "iri": "http://wikiba.se/ontology#Statement",
          "links": [],
          "properties": [
           [
            "pq:P585",
            1
           ],
           [
            "p:P1082",
            2
           ],
           [
            "p:P4010",
            5
           ]
          ]
         },
         "http://wikiba.se/ontology#Statement2": {
          "iri": "http://wikiba.se/ontology#Statement",
          "links": [],
          "properties": [
           [
            "p:P2250",
            3
           ]
          ]
         },
         "http://wikiba.se/ontology#Statement3": {
          "iri": "http://wikiba.se/ontology#Statement",
          "links": [],
          "properties": [
           [
            "worldbank:NY.GNP.PCAP.CD",
            4
           ]
          ]
         },
         "http://wikiba.se/ontology#Statement4": {
          "iri": "http://wikiba.se/ontology#Statement",
          "links": [],
          "properties": [
           [
            "p:P5991",
            6
           ]
          ]
         }
        },
        {
         "http://wikiba.se/ontology#Item1": {
          "iri": "http://wikiba.se/ontology#Item",
          "links": [
           [
            "p:P4010",
            "http://wikiba.se/ontology#Statement1"
           ],
           [
            "p:P2250",
            "http://wikiba.se/ontology#Statement2"
           ],
           [
            "worldbank:NY.GNP.PCAP.CD",
            "http://wikiba.se/ontology#Statement3"
           ],
           [
            "p:P5991",
            "http://wikiba.se/ontology#Statement4"
           ]
          ],
          "properties": [
           [
            "rdfs:label",
            0
           ]
          ]
         },
         "http://wikiba.se/ontology#Statement1": {
          "iri": "http://wikiba.se/ontology#Statement",
          "links": [],
          "properties": [
           [
            "pq:P585",
            1
           ],
           [
            "p:P1082",
            2
           ],
           [
            "p:P4010",
            5
           ]
          ]
         },
         "http://wikiba.se/ontology#Statement2": {
          "iri": "http://wikiba.se/ontology#Statement",
          "links": [],
          "properties": [
           [
            "p:P2250",
            3
           ]
          ]
         },
         "http://wikiba.se/ontology#Statement3": {
          "iri": "http://wikiba.se/ontology#Statement",
          "links": [],
          "properties": [
           [
            "worldbank:NY.GNP.PCAP.CD",
            4
           ]
          ]
         },
         "http://wikiba.se/ontology#Statement4": {
          "iri": "http://wikiba.se/ontology#Statement",
          "links": [],
          "properties": [
           [
            "p:P5991",
            6
           ]
          ]
         }
        },
        {
         "http://wikiba.se/ontology#Item1": {
          "iri": "http://wikiba.se/ontology#Item",
          "links": [
           [
            "p:P4010",
            "http://wikiba.se/ontology#Statement1"
           ],
           [
            "p:P2250",
            "http://wikiba.se/ontology#Statement2"
           ],
           [
            "worldbank:NY.GNP.PCAP.CD",
            "http://wikiba.se/ontology#Statement3"
           ],
           [
            "p:P5991",
            "http://wikiba.se/ontology#Statement4"
           ]
          ],
          "properties": [
           [
            "rdfs:label",
            0
           ]
          ]
         },
         "http://wikiba.se/ontology#Statement1": {
          "iri": "http://wikiba.se/ontology#Statement",
          "links": [],
          "properties": [
           [
            "pq:P585",
            1
           ],
           [
            "p:P1082",
            2
           ],
           [
            "p:P4010",
            5
           ]
          ]
         },
         "http://wikiba.se/ontology#Statement2": {
          "iri": "http://wikiba.se/ontology#Statement",
          "links": [],
          "properties": [
           [
            "p:P2250",
            3
           ]
          ]
         },
         "http://wikiba.se/ontology#Statement3": {
          "iri": "http://wikiba.se/ontology#Statement",
          "links": [],
          "properties": [
           [
            "worldbank:NY.GNP.PCAP.CD",
            4
           ]
          ]
         },
         "http://wikiba.se/ontology#Statement4": {
          "iri": "http://wikiba.se/ontology#Statement",
          "links": [],
          "properties": [
           [
            "p:P5991",
            6
           ]
          ]
         }
        },
        {
         "http://wikiba.se/ontology#Item1": {
          "iri": "http://wikiba.se/ontology#Item",
          "links": [
           [
            "p:P4010",
            "http://wikiba.se/ontology#Statement1"
           ],
           [
            "p:P2250",
            "http://wikiba.se/ontology#Statement2"
           ],
           [
            "worldbank:NY.GNP.PCAP.CD",
            "http://wikiba.se/ontology#Statement3"
           ],
           [
            "p:P5991",
            "http://wikiba.se/ontology#Statement4"
           ]
          ],
          "properties": [
           [
            "rdfs:label",
            0
           ]
          ]
         },
         "http://wikiba.se/ontology#Statement1": {
          "iri": "http://wikiba.se/ontology#Statement",
          "links": [],
          "properties": [
           [
            "pq:P585",
            1
           ],
           [
            "p:P1082",
            2
           ],
           [
            "p:P4010",
            5
           ]
          ]
         },
         "http://wikiba.se/ontology#Statement2": {
          "iri": "http://wikiba.se/ontology#Statement",
          "links": [],
          "properties": [
           [
            "p:P2250",
            3
           ]
          ]
         },
         "http://wikiba.se/ontology#Statement3": {
          "iri": "http://wikiba.se/ontology#Statement",
          "links": [],
          "properties": [
           [
            "worldbank:NY.GNP.PCAP.CD",
            4
           ]
          ]
         },
         "http://wikiba.se/ontology#Statement4": {
          "iri": "http://wikiba.se/ontology#Statement",
          "links": [],
          "properties": [
           [
            "p:P5991",
            6
           ]
          ]
         }
        },
        {
         "http://wikiba.se/ontology#Item1": {
          "iri": "http://wikiba.se/ontology#Item",
          "links": [
           [
            "p:P4010",
            "http://wikiba.se/ontology#Statement1"
           ],
           [
            "p:P2250",
            "http://wikiba.se/ontology#Statement2"
           ],
           [
            "worldbank:NY.GNP.PCAP.CD",
            "http://wikiba.se/ontology#Statement3"
           ],
           [
            "p:P5991",
            "http://wikiba.se/ontology#Statement4"
           ]
          ],
          "properties": [
           [
            "rdfs:label",
            0
           ]
          ]
         },
         "http://wikiba.se/ontology#Statement1": {
          "iri": "http://wikiba.se/ontology#Statement",
          "links": [],
          "properties": [
           [
            "pq:P585",
            1
           ],
           [
            "p:P1082",
            2
           ],
           [
            "p:P4010",
            5
           ]
          ]
         },
         "http://wikiba.se/ontology#Statement2": {
          "iri": "http://wikiba.se/ontology#Statement",
          "links": [],
          "properties": [
           [
            "p:P2250",
            3
           ]
          ]
         },
         "http://wikiba.se/ontology#Statement3": {
          "iri": "http://wikiba.se/ontology#Statement",
          "links": [],
          "properties": [
           [
            "worldbank:NY.GNP.PCAP.CD",
            4
           ]
          ]
         },
         "http://wikiba.se/ontology#Statement4": {
          "iri": "http://wikiba.se/ontology#Statement",
          "links": [],
          "properties": [
           [
            "p:P5991",
            6
           ]
          ]
         }
        },
        {
         "http://wikiba.se/ontology#Item1": {
          "iri": "http://wikiba.se/ontology#Item",
          "links": [
           [
            "p:P4010",
            "http://wikiba.se/ontology#Statement1"
           ],
           [
            "p:P2250",
            "http://wikiba.se/ontology#Statement2"
           ],
           [
            "worldbank:NY.GNP.PCAP.CD",
            "http://wikiba.se/ontology#Statement3"
           ],
           [
            "p:P5991",
            "http://wikiba.se/ontology#Statement4"
           ]
          ],
          "properties": [
           [
            "rdfs:label",
            0
           ]
          ]
         },
         "http://wikiba.se/ontology#Statement1": {
          "iri": "http://wikiba.se/ontology#Statement",
          "links": [],
          "properties": [
           [
            "pq:P585",
            1
           ],
           [
            "p:P1082",
            2
           ],
           [
            "p:P4010",
            5
           ]
          ]
         },
         "http://wikiba.se/ontology#Statement2": {
          "iri": "http://wikiba.se/ontology#Statement",
          "links": [],
          "properties": [
           [
            "p:P2250",
            3
           ]
          ]
         },
         "http://wikiba.se/ontology#Statement3": {
          "iri": "http://wikiba.se/ontology#Statement",
          "links": [],
          "properties": [
           [
            "worldbank:NY.GNP.PCAP.CD",
            4
           ]
          ]
         },
         "http://wikiba.se/ontology#Statement4": {
          "iri": "http://wikiba.se/ontology#Statement",
          "links": [],
          "properties": [
           [
            "p:P5991",
            6
           ]
          ]
         }
        },
        {
         "http://wikiba.se/ontology#Item1": {
          "iri": "http://wikiba.se/ontology#Item",
          "links": [
           [
            "p:P4010",
            "http://wikiba.se/ontology#Statement1"
           ],
           [
            "p:P2250",
            "http://wikiba.se/ontology#Statement2"
           ],
           [
            "worldbank:NY.GNP.PCAP.CD",
            "http://wikiba.se/ontology#Statement3"
           ],
           [
            "p:P5991",
            "http://wikiba.se/ontology#Statement4"
           ]
          ],
          "properties": [
           [
            "rdfs:label",
            0
           ]
          ]
         },
         "http://wikiba.se/ontology#Statement1": {
          "iri": "http://wikiba.se/ontology#Statement",
          "links": [],
          "properties": [
           [
            "pq:P585",
            1
           ],
           [
            "p:P1082",
            2
           ],
           [
            "p:P4010",
            5
           ]
          ]
         },
         "http://wikiba.se/ontology#Statement2": {
          "iri": "http://wikiba.se/ontology#Statement",
          "links": [],
          "properties": [
           [
            "p:P2250",
            3
           ]
          ]
         },
         "http://wikiba.se/ontology#Statement3": {
          "iri": "http://wikiba.se/ontology#Statement",
          "links": [],
          "properties": [
           [
            "worldbank:NY.GNP.PCAP.CD",
            4
           ]
          ]
         },
         "http://wikiba.se/ontology#Statement4": {
          "iri": "http://wikiba.se/ontology#Statement",
          "links": [],
          "properties": [
           [
            "p:P5991",
            6
           ]
          ]
         }
        },
        {
         "http://wikiba.se/ontology#Item1": {
          "iri": "http://wikiba.se/ontology#Item",
          "links": [
           [
            "p:P4010",
            "http://wikiba.se/ontology#Statement1"
           ],
           [
            "p:P2250",
            "http://wikiba.se/ontology#Statement2"
           ],
           [
            "worldbank:NY.GNP.PCAP.CD",
            "http://wikiba.se/ontology#Statement3"
           ],
           [
            "p:P5991",
            "http://wikiba.se/ontology#Statement4"
           ]
          ],
          "properties": [
           [
            "rdfs:label",
            0
           ]
          ]
         },
         "http://wikiba.se/ontology#Statement1": {
          "iri": "http://wikiba.se/ontology#Statement",
          "links": [],
          "properties": [
           [
            "pq:P585",
            1
           ],
           [
            "p:P1082",
            2
           ],
           [
            "p:P4010",
            5
           ]
          ]
         },
         "http://wikiba.se/ontology#Statement2": {
          "iri": "http://wikiba.se/ontology#Statement",
          "links": [],
          "properties": [
           [
            "p:P2250",
            3
           ]
          ]
         },
         "http://wikiba.se/ontology#Statement3": {
          "iri": "http://wikiba.se/ontology#Statement",
          "links": [],
          "properties": [
           [
            "worldbank:NY.GNP.PCAP.CD",
            4
           ]
          ]
         },
         "http://wikiba.se/ontology#Statement4": {
          "iri": "http://wikiba.se/ontology#Statement",
          "links": [],
          "properties": [
           [
            "p:P5991",
            6
           ]
          ]
         }
        },
        {
         "http://wikiba.se/ontology#Item1": {
          "iri": "http://wikiba.se/ontology#Item",
          "links": [
           [
            "p:P4010",
            "http://wikiba.se/ontology#Statement1"
           ],
           [
            "p:P2250",
            "http://wikiba.se/ontology#Statement2"
           ],
           [
            "worldbank:NY.GNP.PCAP.CD",
            "http://wikiba.se/ontology#Statement3"
           ],
           [
            "p:P5991",
            "http://wikiba.se/ontology#Statement4"
           ]
          ],
          "properties": [
           [
            "rdfs:label",
            0
           ]
          ]
         },
         "http://wikiba.se/ontology#Statement1": {
          "iri": "http://wikiba.se/ontology#Statement",
          "links": [],
          "properties": [
           [
            "pq:P585",
            1
           ],
           [
            "p:P1082",
            2
           ],
           [
            "p:P4010",
            5
           ]
          ]
         },
         "http://wikiba.se/ontology#Statement2": {
          "iri": "http://wikiba.se/ontology#Statement",
          "links": [],
          "properties": [
           [
            "p:P2250",
            3
           ]
          ]
         },
         "http://wikiba.se/ontology#Statement3": {
          "iri": "http://wikiba.se/ontology#Statement",
          "links": [],
          "properties": [
           [
            "worldbank:NY.GNP.PCAP.CD",
            4
           ]
          ]
         },
         "http://wikiba.se/ontology#Statement4": {
          "iri": "http://wikiba.se/ontology#Statement",
          "links": [],
          "properties": [
           [
            "p:P5991",
            6
           ]
          ]
         }
        },
        {
         "http://wikiba.se/ontology#Item1": {
          "iri": "http://wikiba.se/ontology#Item",
          "links": [
           [
            "p:P4010",
            "http://wikiba.se/ontology#Statement1"
           ],
           [
            "p:P2250",
            "http://wikiba.se/ontology#Statement2"
           ],
           [
            "worldbank:NY.GNP.PCAP.CD",
            "http://wikiba.se/ontology#Statement3"
           ],
           [
            "p:P5991",
            "http://wikiba.se/ontology#Statement4"
           ]
          ],
          "properties": [
           [
            "rdfs:label",
            0
           ]
          ]
         },
         "http://wikiba.se/ontology#Statement1": {
          "iri": "http://wikiba.se/ontology#Statement",
          "links": [],
          "properties": [
           [
            "pq:P585",
            1
           ],
           [
            "p:P1082",
            2
           ],
           [
            "p:P4010",
            5
           ]
          ]
         },
         "http://wikiba.se/ontology#Statement2": {
          "iri": "http://wikiba.se/ontology#Statement",
          "links": [],
          "properties": [
           [
            "p:P2250",
            3
           ]
          ]
         },
         "http://wikiba.se/ontology#Statement3": {
          "iri": "http://wikiba.se/ontology#Statement",
          "links": [],
          "properties": [
           [
            "worldbank:NY.GNP.PCAP.CD",
            4
           ]
          ]
         },
         "http://wikiba.se/ontology#Statement4": {
          "iri": "http://wikiba.se/ontology#Statement",
          "links": [],
          "properties": [
           [
            "p:P5991",
            6
           ]
          ]
         }
        },
        {
         "http://wikiba.se/ontology#Item1": {
          "iri": "http://wikiba.se/ontology#Item",
          "links": [
           [
            "p:P4010",
            "http://wikiba.se/ontology#Statement1"
           ],
           [
            "p:P2250",
            "http://wikiba.se/ontology#Statement2"
           ],
           [
            "worldbank:NY.GNP.PCAP.CD",
            "http://wikiba.se/ontology#Statement3"
           ],
           [
            "p:P5991",
            "http://wikiba.se/ontology#Statement4"
           ]
          ],
          "properties": [
           [
            "rdfs:label",
            0
           ]
          ]
         },
         "http://wikiba.se/ontology#Statement1": {
          "iri": "http://wikiba.se/ontology#Statement",
          "links": [],
          "properties": [
           [
            "pq:P585",
            1
           ],
           [
            "p:P1082",
            2
           ],
           [
            "p:P4010",
            5
           ]
          ]
         },
         "http://wikiba.se/ontology#Statement2": {
          "iri": "http://wikiba.se/ontology#Statement",
          "links": [],
          "properties": [
           [
            "p:P2250",
            3
           ]
          ]
         },
         "http://wikiba.se/ontology#Statement3": {
          "iri": "http://wikiba.se/ontology#Statement",
          "links": [],
          "properties": [
           [
            "worldbank:NY.GNP.PCAP.CD",
            4
           ]
          ]
         },
         "http://wikiba.se/ontology#Statement4": {
          "iri": "http://wikiba.se/ontology#Statement",
          "links": [],
          "properties": [
           [
            "p:P5991",
            6
           ]
          ]
         }
        },
        {
         "http://wikiba.se/ontology#Item1": {
          "iri": "http://wikiba.se/ontology#Item",
          "links": [
           [
            "p:P4010",
            "http://wikiba.se/ontology#Statement1"
           ],
           [
            "p:P2250",
            "http://wikiba.se/ontology#Statement2"
           ],
           [
            "worldbank:NY.GNP.PCAP.CD",
            "http://wikiba.se/ontology#Statement3"
           ],
           [
            "p:P5991",
            "http://wikiba.se/ontology#Statement4"
           ]
          ],
          "properties": [
           [
            "rdfs:label",
            0
           ]
          ]
         },
         "http://wikiba.se/ontology#Statement1": {
          "iri": "http://wikiba.se/ontology#Statement",
          "links": [],
          "properties": [
           [
            "pq:P585",
            1
           ],
           [
            "p:P1082",
            2
           ],
           [
            "p:P4010",
            5
           ]
          ]
         },
         "http://wikiba.se/ontology#Statement2": {
          "iri": "http://wikiba.se/ontology#Statement",
          "links": [],
          "properties": [
           [
            "p:P2250",
            3
           ]
          ]
         },
         "http://wikiba.se/ontology#Statement3": {
          "iri": "http://wikiba.se/ontology#Statement",
          "links": [],
          "properties": [
           [
            "worldbank:NY.GNP.PCAP.CD",
            4
           ]
          ]
         },
         "http://wikiba.se/ontology#Statement4": {
          "iri": "http://wikiba.se/ontology#Statement",
          "links": [],
          "properties": [
           [
            "p:P5991",
            6
           ]
          ]
         }
        },
        {
         "http://wikiba.se/ontology#Item1": {
          "iri": "http://wikiba.se/ontology#Item",
          "links": [
           [
            "p:P4010",
            "http://wikiba.se/ontology#Statement1"
           ],
           [
            "p:P2250",
            "http://wikiba.se/ontology#Statement2"
           ],
           [
            "worldbank:NY.GNP.PCAP.CD",
            "http://wikiba.se/ontology#Statement3"
           ],
           [
            "p:P5991",
            "http://wikiba.se/ontology#Statement4"
           ]
          ],
          "properties": [
           [
            "rdfs:label",
            0
           ]
          ]
         },
         "http://wikiba.se/ontology#Statement1": {
          "iri": "http://wikiba.se/ontology#Statement",
          "links": [],
          "properties": [
           [
            "pq:P585",
            1
           ],
           [
            "p:P1082",
            2
           ],
           [
            "p:P4010",
            5
           ]
          ]
         },
         "http://wikiba.se/ontology#Statement2": {
          "iri": "http://wikiba.se/ontology#Statement",
          "links": [],
          "properties": [
           [
            "p:P2250",
            3
           ]
          ]
         },
         "http://wikiba.se/ontology#Statement3": {
          "iri": "http://wikiba.se/ontology#Statement",
          "links": [],
          "properties": [
           [
            "worldbank:NY.GNP.PCAP.CD",
            4
           ]
          ]
         },
         "http://wikiba.se/ontology#Statement4": {
          "iri": "http://wikiba.se/ontology#Statement",
          "links": [],
          "properties": [
           [
            "p:P5991",
            6
           ]
          ]
         }
        },
        {
         "http://wikiba.se/ontology#Item1": {
          "iri": "http://wikiba.se/ontology#Item",
          "links": [
           [
            "p:P4010",
            "http://wikiba.se/ontology#Statement1"
           ],
           [
            "p:P2250",
            "http://wikiba.se/ontology#Statement2"
           ],
           [
            "worldbank:NY.GNP.PCAP.CD",
            "http://wikiba.se/ontology#Statement3"
           ],
           [
            "p:P5991",
            "http://wikiba.se/ontology#Statement4"
           ]
          ],
          "properties": [
           [
            "rdfs:label",
            0
           ]
          ]
         },
         "http://wikiba.se/ontology#Statement1": {
          "iri": "http://wikiba.se/ontology#Statement",
          "links": [],
          "properties": [
           [
            "pq:P585",
            1
           ],
           [
            "p:P1082",
            2
           ],
           [
            "p:P4010",
            5
           ]
          ]
         },
         "http://wikiba.se/ontology#Statement2": {
          "iri": "http://wikiba.se/ontology#Statement",
          "links": [],
          "properties": [
           [
            "p:P2250",
            3
           ]
          ]
         },
         "http://wikiba.se/ontology#Statement3": {
          "iri": "http://wikiba.se/ontology#Statement",
          "links": [],
          "properties": [
           [
            "worldbank:NY.GNP.PCAP.CD",
            4
           ]
          ]
         },
         "http://wikiba.se/ontology#Statement4": {
          "iri": "http://wikiba.se/ontology#Statement",
          "links": [],
          "properties": [
           [
            "p:P5991",
            6
           ]
          ]
         }
        },
        {
         "http://wikiba.se/ontology#Item1": {
          "iri": "http://wikiba.se/ontology#Item",
          "links": [
           [
            "p:P4010",
            "http://wikiba.se/ontology#Statement1"
           ],
           [
            "p:P2250",
            "http://wikiba.se/ontology#Statement2"
           ],
           [
            "worldbank:NY.GNP.PCAP.CD",
            "http://wikiba.se/ontology#Statement3"
           ],
           [
            "p:P5991",
            "http://wikiba.se/ontology#Statement4"
           ]
          ],
          "properties": [
           [
            "rdfs:label",
            0
           ]
          ]
         },
         "http://wikiba.se/ontology#Statement1": {
          "iri": "http://wikiba.se/ontology#Statement",
          "links": [],
          "properties": [
           [
            "pq:P585",
            1
           ],
           [
            "p:P1082",
            2
           ],
           [
            "p:P4010",
            5
           ]
          ]
         },
         "http://wikiba.se/ontology#Statement2": {
          "iri": "http://wikiba.se/ontology#Statement",
          "links": [],
          "properties": [
           [
            "p:P2250",
            3
           ]
          ]
         },
         "http://wikiba.se/ontology#Statement3": {
          "iri": "http://wikiba.se/ontology#Statement",
          "links": [],
          "properties": [
           [
            "worldbank:NY.GNP.PCAP.CD",
            4
           ]
          ]
         },
         "http://wikiba.se/ontology#Statement4": {
          "iri": "http://wikiba.se/ontology#Statement",
          "links": [],
          "properties": [
           [
            "p:P5991",
            6
           ]
          ]
         }
        },
        {
         "http://wikiba.se/ontology#Item1": {
          "iri": "http://wikiba.se/ontology#Item",
          "links": [
           [
            "p:P4010",
            "http://wikiba.se/ontology#Statement1"
           ],
           [
            "p:P2250",
            "http://wikiba.se/ontology#Statement2"
           ],
           [
            "worldbank:NY.GNP.PCAP.CD",
            "http://wikiba.se/ontology#Statement3"
           ],
           [
            "p:P5991",
            "http://wikiba.se/ontology#Statement4"
           ]
          ],
          "properties": [
           [
            "rdfs:label",
            0
           ]
          ]
         },
         "http://wikiba.se/ontology#Statement1": {
          "iri": "http://wikiba.se/ontology#Statement",
          "links": [],
          "properties": [
           [
            "pq:P585",
            1
           ],
           [
            "p:P1082",
            2
           ],
           [
            "p:P4010",
            5
           ]
          ]
         },
         "http://wikiba.se/ontology#Statement2": {
          "iri": "http://wikiba.se/ontology#Statement",
          "links": [],
          "properties": [
           [
            "p:P2250",
            3
           ]
          ]
         },
         "http://wikiba.se/ontology#Statement3": {
          "iri": "http://wikiba.se/ontology#Statement",
          "links": [],
          "properties": [
           [
            "worldbank:NY.GNP.PCAP.CD",
            4
           ]
          ]
         },
         "http://wikiba.se/ontology#Statement4": {
          "iri": "http://wikiba.se/ontology#Statement",
          "links": [],
          "properties": [
           [
            "p:P5991",
            6
           ]
          ]
         }
        },
        {
         "http://wikiba.se/ontology#Item1": {
          "iri": "http://wikiba.se/ontology#Item",
          "links": [
           [
            "p:P4010",
            "http://wikiba.se/ontology#Statement1"
           ],
           [
            "p:P2250",
            "http://wikiba.se/ontology#Statement2"
           ],
           [
            "worldbank:NY.GNP.PCAP.CD",
            "http://wikiba.se/ontology#Statement3"
           ],
           [
            "p:P5991",
            "http://wikiba.se/ontology#Statement4"
           ]
          ],
          "properties": [
           [
            "rdfs:label",
            0
           ]
          ]
         },
         "http://wikiba.se/ontology#Statement1": {
          "iri": "http://wikiba.se/ontology#Statement",
          "links": [],
          "properties": [
           [
            "pq:P585",
            1
           ],
           [
            "p:P1082",
            2
           ],
           [
            "p:P4010",
            5
           ]
          ]
         },
         "http://wikiba.se/ontology#Statement2": {
          "iri": "http://wikiba.se/ontology#Statement",
          "links": [],
          "properties": [
           [
            "p:P2250",
            3
           ]
          ]
         },
         "http://wikiba.se/ontology#Statement3": {
          "iri": "http://wikiba.se/ontology#Statement",
          "links": [],
          "properties": [
           [
            "worldbank:NY.GNP.PCAP.CD",
            4
           ]
          ]
         },
         "http://wikiba.se/ontology#Statement4": {
          "iri": "http://wikiba.se/ontology#Statement",
          "links": [],
          "properties": [
           [
            "p:P5991",
            6
           ]
          ]
         }
        },
        {
         "http://wikiba.se/ontology#Item1": {
          "iri": "http://wikiba.se/ontology#Item",
          "links": [
           [
            "p:P4010",
            "http://wikiba.se/ontology#Statement1"
           ],
           [
            "p:P2250",
            "http://wikiba.se/ontology#Statement2"
           ],
           [
            "worldbank:NY.GNP.PCAP.CD",
            "http://wikiba.se/ontology#Statement3"
           ],
           [
            "p:P5991",
            "http://wikiba.se/ontology#Statement4"
           ]
          ],
          "properties": [
           [
            "rdfs:label",
            0
           ]
          ]
         },
         "http://wikiba.se/ontology#Statement1": {
          "iri": "http://wikiba.se/ontology#Statement",
          "links": [],
          "properties": [
           [
            "pq:P585",
            1
           ],
           [
            "p:P1082",
            2
           ],
           [
            "p:P4010",
            5
           ]
          ]
         },
         "http://wikiba.se/ontology#Statement2": {
          "iri": "http://wikiba.se/ontology#Statement",
          "links": [],
          "properties": [
           [
            "p:P2250",
            3
           ]
          ]
         },
         "http://wikiba.se/ontology#Statement3": {
          "iri": "http://wikiba.se/ontology#Statement",
          "links": [],
          "properties": [
           [
            "worldbank:NY.GNP.PCAP.CD",
            4
           ]
          ]
         },
         "http://wikiba.se/ontology#Statement4": {
          "iri": "http://wikiba.se/ontology#Statement",
          "links": [],
          "properties": [
           [
            "p:P5991",
            6
           ]
          ]
         }
        },
        {
         "http://wikiba.se/ontology#Item1": {
          "iri": "http://wikiba.se/ontology#Item",
          "links": [
           [
            "p:P4010",
            "http://wikiba.se/ontology#Statement1"
           ],
           [
            "p:P2250",
            "http://wikiba.se/ontology#Statement2"
           ],
           [
            "worldbank:NY.GNP.PCAP.CD",
            "http://wikiba.se/ontology#Statement3"
           ],
           [
            "p:P5991",
            "http://wikiba.se/ontology#Statement4"
           ]
          ],
          "properties": [
           [
            "rdfs:label",
            0
           ]
          ]
         },
         "http://wikiba.se/ontology#Statement1": {
          "iri": "http://wikiba.se/ontology#Statement",
          "links": [],
          "properties": [
           [
            "pq:P585",
            1
           ],
           [
            "p:P1082",
            2
           ],
           [
            "p:P4010",
            5
           ]
          ]
         },
         "http://wikiba.se/ontology#Statement2": {
          "iri": "http://wikiba.se/ontology#Statement",
          "links": [],
          "properties": [
           [
            "p:P2250",
            3
           ]
          ]
         },
         "http://wikiba.se/ontology#Statement3": {
          "iri": "http://wikiba.se/ontology#Statement",
          "links": [],
          "properties": [
           [
            "worldbank:NY.GNP.PCAP.CD",
            4
           ]
          ]
         },
         "http://wikiba.se/ontology#Statement4": {
          "iri": "http://wikiba.se/ontology#Statement",
          "links": [],
          "properties": [
           [
            "p:P5991",
            6
           ]
          ]
         }
        },
        {
         "http://wikiba.se/ontology#Item1": {
          "iri": "http://wikiba.se/ontology#Item",
          "links": [
           [
            "p:P4010",
            "http://wikiba.se/ontology#Statement1"
           ],
           [
            "p:P2250",
            "http://wikiba.se/ontology#Statement2"
           ],
           [
            "worldbank:NY.GNP.PCAP.CD",
            "http://wikiba.se/ontology#Statement3"
           ],
           [
            "p:P5991",
            "http://wikiba.se/ontology#Statement4"
           ]
          ],
          "properties": [
           [
            "rdfs:label",
            0
           ]
          ]
         },
         "http://wikiba.se/ontology#Statement1": {
          "iri": "http://wikiba.se/ontology#Statement",
          "links": [],
          "properties": [
           [
            "pq:P585",
            1
           ],
           [
            "p:P1082",
            2
           ],
           [
            "p:P4010",
            5
           ]
          ]
         },
         "http://wikiba.se/ontology#Statement2": {
          "iri": "http://wikiba.se/ontology#Statement",
          "links": [],
          "properties": [
           [
            "p:P2250",
            3
           ]
          ]
         },
         "http://wikiba.se/ontology#Statement3": {
          "iri": "http://wikiba.se/ontology#Statement",
          "links": [],
          "properties": [
           [
            "worldbank:NY.GNP.PCAP.CD",
            4
           ]
          ]
         },
         "http://wikiba.se/ontology#Statement4": {
          "iri": "http://wikiba.se/ontology#Statement",
          "links": [],
          "properties": [
           [
            "p:P5991",
            6
           ]
          ]
         }
        },
        {
         "http://wikiba.se/ontology#Item1": {
          "iri": "http://wikiba.se/ontology#Item",
          "links": [
           [
            "p:P4010",
            "http://wikiba.se/ontology#Statement1"
           ],
           [
            "p:P2250",
            "http://wikiba.se/ontology#Statement2"
           ],
           [
            "worldbank:NY.GNP.PCAP.CD",
            "http://wikiba.se/ontology#Statement3"
           ],
           [
            "p:P5991",
            "http://wikiba.se/ontology#Statement4"
           ]
          ],
          "properties": [
           [
            "rdfs:label",
            0
           ]
          ]
         },
         "http://wikiba.se/ontology#Statement1": {
          "iri": "http://wikiba.se/ontology#Statement",
          "links": [],
          "properties": [
           [
            "pq:P585",
            1
           ],
           [
            "p:P1082",
            2
           ],
           [
            "p:P4010",
            5
           ]
          ]
         },
         "http://wikiba.se/ontology#Statement2": {
          "iri": "http://wikiba.se/ontology#Statement",
          "links": [],
          "properties": [
           [
            "p:P2250",
            3
           ]
          ]
         },
         "http://wikiba.se/ontology#Statement3": {
          "iri": "http://wikiba.se/ontology#Statement",
          "links": [],
          "properties": [
           [
            "worldbank:NY.GNP.PCAP.CD",
            4
           ]
          ]
         },
         "http://wikiba.se/ontology#Statement4": {
          "iri": "http://wikiba.se/ontology#Statement",
          "links": [],
          "properties": [
           [
            "p:P5991",
            6
           ]
          ]
         }
        },
        {
         "http://wikiba.se/ontology#Item1": {
          "iri": "http://wikiba.se/ontology#Item",
          "links": [
           [
            "p:P4010",
            "http://wikiba.se/ontology#Statement1"
           ],
           [
            "p:P2250",
            "http://wikiba.se/ontology#Statement2"
           ],
           [
            "worldbank:NY.GNP.PCAP.CD",
            "http://wikiba.se/ontology#Statement3"
           ],
           [
            "p:P5991",
            "http://wikiba.se/ontology#Statement4"
           ]
          ],
          "properties": [
           [
            "rdfs:label",
            0
           ]
          ]
         },
         "http://wikiba.se/ontology#Statement1": {
          "iri": "http://wikiba.se/ontology#Statement",
          "links": [],
          "properties": [
           [
            "pq:P585",
            1
           ],
           [
            "p:P1082",
            2
           ],
           [
            "p:P4010",
            5
           ]
          ]
         },
         "http://wikiba.se/ontology#Statement2": {
          "iri": "http://wikiba.se/ontology#Statement",
          "links": [],
          "properties": [
           [
            "p:P2250",
            3
           ]
          ]
         },
         "http://wikiba.se/ontology#Statement3": {
          "iri": "http://wikiba.se/ontology#Statement",
          "links": [],
          "properties": [
           [
            "worldbank:NY.GNP.PCAP.CD",
            4
           ]
          ]
         },
         "http://wikiba.se/ontology#Statement4": {
          "iri": "http://wikiba.se/ontology#Statement",
          "links": [],
          "properties": [
           [
            "p:P5991",
            6
           ]
          ]
         }
        },
        {
         "http://wikiba.se/ontology#Item1": {
          "iri": "http://wikiba.se/ontology#Item",
          "links": [
           [
            "p:P4010",
            "http://wikiba.se/ontology#Statement1"
           ],
           [
            "p:P2250",
            "http://wikiba.se/ontology#Statement2"
           ],
           [
            "worldbank:NY.GNP.PCAP.CD",
            "http://wikiba.se/ontology#Statement3"
           ],
           [
            "p:P5991",
            "http://wikiba.se/ontology#Statement4"
           ]
          ],
          "properties": [
           [
            "rdfs:label",
            0
           ]
          ]
         },
         "http://wikiba.se/ontology#Statement1": {
          "iri": "http://wikiba.se/ontology#Statement",
          "links": [],
          "properties": [
           [
            "pq:P585",
            1
           ],
           [
            "p:P1082",
            2
           ],
           [
            "p:P4010",
            5
           ]
          ]
         },
         "http://wikiba.se/ontology#Statement2": {
          "iri": "http://wikiba.se/ontology#Statement",
          "links": [],
          "properties": [
           [
            "p:P2250",
            3
           ]
          ]
         },
         "http://wikiba.se/ontology#Statement3": {
          "iri": "http://wikiba.se/ontology#Statement",
          "links": [],
          "properties": [
           [
            "worldbank:NY.GNP.PCAP.CD",
            4
           ]
          ]
         },
         "http://wikiba.se/ontology#Statement4": {
          "iri": "http://wikiba.se/ontology#Statement",
          "links": [],
          "properties": [
           [
            "p:P5991",
            6
           ]
          ]
         }
        }
       ]
      },
      "text/plain": [
       "<IPython.core.display.JSON object>"
      ]
     },
     "execution_count": 11,
     "metadata": {
      "application/json": {
       "expanded": false,
       "indent": 4,
       "root": "root"
      }
     },
     "output_type": "execute_result"
    }
   ],
   "source": [
    "JSON(resp.json(), indent=4)"
   ]
  },
  {
   "cell_type": "markdown",
   "metadata": {},
   "source": [
    "Run the following cell to draw the most probable semantic model"
   ]
  },
  {
   "cell_type": "code",
   "execution_count": 13,
   "metadata": {},
   "outputs": [],
   "source": [
    "data = resp.json()\n",
    "data = {\n",
    "    \"prefixes\": data['prefixes'],\n",
    "    \"sm\": data['sms'][0],\n",
    "    \"columns\": df.columns.tolist()\n",
    "}"
   ]
  },
  {
   "cell_type": "code",
   "execution_count": 14,
   "metadata": {},
   "outputs": [],
   "source": [
    "resp2 = requests.post(URL + \"/v1/draw\", json=data, auth=auth, stream=all)\n",
    "assert resp2.status_code == 200"
   ]
  },
  {
   "cell_type": "code",
   "execution_count": 15,
   "metadata": {},
   "outputs": [
    {
     "data": {
      "image/png": "[encoded data removed]",
      "text/plain": [
       "<IPython.core.display.Image object>"
      ]
     },
     "metadata": {},
     "output_type": "display_data"
    }
   ],
   "source": [
    "display(Image(resp2.content))"
   ]
  },
  {
   "cell_type": "markdown",
   "metadata": {},
   "source": [
    "The semantic model above describes that the first column (`C0:Country Name`) contains labels of Wikidata entities. Column `C2:Population, total` contains GDPs of the country reported at a point in time (`C1: Unnamed: 1`). In Wikidata, properties' values of an entity are represented as statements (`wikibase:Statement`), which may have additional qualifiers such as who state the statements (e.g., provenance), etc. Beside the information about the population, we also have other properties such as life expectancy, GDP, etc."
   ]
  }
 ],
 "metadata": {
  "kernelspec": {
   "display_name": "Python 3",
   "language": "python",
   "name": "python3"
  },
  "language_info": {
   "codemirror_mode": {
    "name": "ipython",
    "version": 3
   },
   "file_extension": ".py",
   "mimetype": "text/x-python",
   "name": "python",
   "nbconvert_exporter": "python",
   "pygments_lexer": "ipython3",
   "version": "3.7.6"
  }
 },
 "nbformat": 4,
 "nbformat_minor": 4
}
