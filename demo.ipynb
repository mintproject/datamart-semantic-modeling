{
 "cells": [
  {
   "cell_type": "markdown",
   "metadata": {},
   "source": [
    "**1.** Run the following cells to setup the environment"
   ]
  },
  {
   "cell_type": "code",
   "execution_count": 1,
   "metadata": {},
   "outputs": [],
   "source": [
    "import requests, pandas as pd, json, copy\n",
    "from IPython.display import JSON, Image\n",
    "from requests.auth import HTTPBasicAuth"
   ]
  },
  {
   "cell_type": "code",
   "execution_count": 2,
   "metadata": {},
   "outputs": [],
   "source": [
    "URL = 'http://mira.isi.edu:8000'\n",
    "auth = HTTPBasicAuth('mint', 'm290sjafds8!')"
   ]
  },
  {
   "cell_type": "markdown",
   "metadata": {},
   "source": [
    "**2.** Load a dataset that we want to model, and show the content of the dataset.\n",
    "\n",
    "The dataset is supposed to be a [relational table](https://www.ibm.com/support/knowledgecenter/SSWU4L/Data/imc_Data/Data_q_a_watson_assistant/Relational_Tables371.html). If the data format is CSV, the first row is the header."
   ]
  },
  {
   "cell_type": "code",
   "execution_count": 3,
   "metadata": {},
   "outputs": [
    {
     "data": {
      "text/html": [
       "<div>\n",
       "<style scoped>\n",
       "    .dataframe tbody tr th:only-of-type {\n",
       "        vertical-align: middle;\n",
       "    }\n",
       "\n",
       "    .dataframe tbody tr th {\n",
       "        vertical-align: top;\n",
       "    }\n",
       "\n",
       "    .dataframe thead th {\n",
       "        text-align: right;\n",
       "    }\n",
       "</style>\n",
       "<table border=\"1\" class=\"dataframe\">\n",
       "  <thead>\n",
       "    <tr style=\"text-align: right;\">\n",
       "      <th></th>\n",
       "      <th>Country Name</th>\n",
       "      <th>Year</th>\n",
       "      <th>Population, total</th>\n",
       "      <th>Life expectancy at birth, total (years)</th>\n",
       "      <th>GNI per capita, Atlas method (current US$)</th>\n",
       "      <th>GDP (current US$)</th>\n",
       "      <th>CO2 emissions (metric tons per capita)</th>\n",
       "    </tr>\n",
       "  </thead>\n",
       "  <tbody>\n",
       "    <tr>\n",
       "      <th>0</th>\n",
       "      <td>Ethiopia</td>\n",
       "      <td>1960</td>\n",
       "      <td>22151278.0</td>\n",
       "      <td>38.419</td>\n",
       "      <td>NaN</td>\n",
       "      <td>NaN</td>\n",
       "      <td>0.015892</td>\n",
       "    </tr>\n",
       "    <tr>\n",
       "      <th>1</th>\n",
       "      <td>Ethiopia</td>\n",
       "      <td>1961</td>\n",
       "      <td>22671191.0</td>\n",
       "      <td>39.082</td>\n",
       "      <td>NaN</td>\n",
       "      <td>NaN</td>\n",
       "      <td>0.015042</td>\n",
       "    </tr>\n",
       "    <tr>\n",
       "      <th>2</th>\n",
       "      <td>Ethiopia</td>\n",
       "      <td>1962</td>\n",
       "      <td>23221389.0</td>\n",
       "      <td>39.711</td>\n",
       "      <td>NaN</td>\n",
       "      <td>NaN</td>\n",
       "      <td>0.017055</td>\n",
       "    </tr>\n",
       "    <tr>\n",
       "      <th>3</th>\n",
       "      <td>Ethiopia</td>\n",
       "      <td>1963</td>\n",
       "      <td>23798430.0</td>\n",
       "      <td>40.290</td>\n",
       "      <td>NaN</td>\n",
       "      <td>NaN</td>\n",
       "      <td>0.017720</td>\n",
       "    </tr>\n",
       "    <tr>\n",
       "      <th>4</th>\n",
       "      <td>Ethiopia</td>\n",
       "      <td>1964</td>\n",
       "      <td>24397022.0</td>\n",
       "      <td>40.810</td>\n",
       "      <td>NaN</td>\n",
       "      <td>NaN</td>\n",
       "      <td>0.016684</td>\n",
       "    </tr>\n",
       "  </tbody>\n",
       "</table>\n",
       "</div>"
      ],
      "text/plain": [
       "  Country Name  Year  Population, total  \\\n",
       "0     Ethiopia  1960         22151278.0   \n",
       "1     Ethiopia  1961         22671191.0   \n",
       "2     Ethiopia  1962         23221389.0   \n",
       "3     Ethiopia  1963         23798430.0   \n",
       "4     Ethiopia  1964         24397022.0   \n",
       "\n",
       "   Life expectancy at birth, total (years)  \\\n",
       "0                                   38.419   \n",
       "1                                   39.082   \n",
       "2                                   39.711   \n",
       "3                                   40.290   \n",
       "4                                   40.810   \n",
       "\n",
       "   GNI per capita, Atlas method (current US$)  GDP (current US$)  \\\n",
       "0                                         NaN                NaN   \n",
       "1                                         NaN                NaN   \n",
       "2                                         NaN                NaN   \n",
       "3                                         NaN                NaN   \n",
       "4                                         NaN                NaN   \n",
       "\n",
       "   CO2 emissions (metric tons per capita)  \n",
       "0                                0.015892  \n",
       "1                                0.015042  \n",
       "2                                0.017055  \n",
       "3                                0.017720  \n",
       "4                                0.016684  "
      ]
     },
     "execution_count": 3,
     "metadata": {},
     "output_type": "execute_result"
    }
   ],
   "source": [
    "df = pd.read_csv('./examples/ethiopia_dashboard.csv', header=0)\n",
    "df.head(5)"
   ]
  },
  {
   "cell_type": "markdown",
   "metadata": {},
   "source": [
    "**3.** To send the table to the API for annotation, we need to convert the original table into a JSON format below:\n",
    "```json\n",
    "{\n",
    "    \"ontologies\": [\"http://wikiba.se/ontology#\"],\n",
    "    \"source\": [\n",
    "        {\"name\": \"<column name>\", \"values\": [\"<value of the column in first row>\", \"<value of the column in second row>\", \"...\"]\n",
    "    ]\n",
    "}\n",
    "```\n",
    "and send it in the body of a `POST` request to `/v1.1/annotate`"
   ]
  },
  {
   "cell_type": "code",
   "execution_count": 4,
   "metadata": {},
   "outputs": [],
   "source": [
    "payload = {\n",
    "    \"ontologies\": [\"http://datamart.isi.edu/ontology#\"],\n",
    "    \"source\": [\n",
    "        {\"name\": \"\" if c.startswith(\"Unnamed:\") else c, \"values\": df[c].tolist()}\n",
    "        for c in df.columns\n",
    "    ]\n",
    "}\n",
    "resp = requests.post(URL + \"/v1.1/annotate\", json=payload, auth=auth)\n",
    "assert resp.status_code == 200"
   ]
  },
  {
   "cell_type": "markdown",
   "metadata": {},
   "source": [
    "**4.** The JSON response that the server returns are in the following format:\n",
    "```json\n",
    "{\n",
    "    \"sms\": [{\n",
    "        \"<ont_class_id>\": {\n",
    "            \"iri\": \"<uri of the ontology class>\",\n",
    "            \"properties\": [\n",
    "                [\"<ontology predicate 1>\", \"<column_index>\"], \n",
    "                [\"<ontology predicate 2>\", \"<column_index>\"]\n",
    "            ],\n",
    "            \"links\": [\n",
    "                [\"<ontology predicate 1>\", \"<ont_class_id>\"]\n",
    "            ]\n",
    "        }\n",
    "    }],\n",
    "    \"semantic_types\": [\n",
    "        [{\n",
    "            \"class\": \"<ontology class uri>\",\n",
    "            \"predicate\": \"<ontology predicate uri>\",\n",
    "            \"prob\": \"<probability of this semantic type (float)>\"\n",
    "        }]\n",
    "    ],\n",
    "    \"prefixes\": {\n",
    "        \"<prefix>\": \"<url>\"\n",
    "    }\n",
    "}\n",
    "```\n",
    "where:\n",
    "* `sms` is a list of predicted semantic models, sorted by the likelihood\n",
    "* `semantic_types` is a list containing predicted semantic types for each column. In particular, an ith item in the list is predicted semantic types of the ith column in the data source."
   ]
  },
  {
   "cell_type": "code",
   "execution_count": 5,
   "metadata": {},
   "outputs": [
    {
     "data": {
      "application/json": {
       "prefixes": {
        "dbpedia-owl": "http://dbpedia.org/ontology/",
        "dbpedia-resource": "http://dbpedia.org/resource/",
        "dm": "http://datamart.isi.edu/ontology#",
        "p": "http://www.wikidata.org/prop/",
        "rdfs": "http://www.w3.org/2000/01/rdf-schema#",
        "schema": "http://schema.org/",
        "wb": "http://worldbank.org/ontology/indicator#"
       },
       "semantic_types": [],
       "sms": [
        {
         "http://datamart.isi.edu/ontology#Item1": {
          "iri": "http://datamart.isi.edu/ontology#Item",
          "links": [],
          "properties": [
           [
            "dm:time/year",
            1
           ],
           [
            "p:P2250",
            3
           ],
           [
            "p:P5991",
            6
           ],
           [
            "dm:location/country",
            0
           ],
           [
            "wb:NY.GNP.PCAP.CD",
            4
           ],
           [
            "p:P1082",
            2
           ],
           [
            "p:P4010",
            5
           ]
          ]
         }
        },
        {
         "http://datamart.isi.edu/ontology#Item1": {
          "iri": "http://datamart.isi.edu/ontology#Item",
          "links": [],
          "properties": [
           [
            "dm:time/year",
            1
           ],
           [
            "p:P2250",
            3
           ],
           [
            "p:P5991",
            6
           ],
           [
            "dm:location/country",
            0
           ],
           [
            "wb:NY.GNP.PCAP.CD",
            4
           ],
           [
            "p:P1082",
            2
           ],
           [
            "p:P4010",
            5
           ]
          ]
         }
        },
        {
         "http://datamart.isi.edu/ontology#Item1": {
          "iri": "http://datamart.isi.edu/ontology#Item",
          "links": [],
          "properties": [
           [
            "dm:time/year",
            1
           ],
           [
            "p:P2250",
            3
           ],
           [
            "p:P5991",
            6
           ],
           [
            "dm:location/country",
            0
           ],
           [
            "wb:NY.GNP.PCAP.CD",
            4
           ],
           [
            "p:P1082",
            2
           ],
           [
            "p:P4010",
            5
           ]
          ]
         }
        },
        {
         "http://datamart.isi.edu/ontology#Item1": {
          "iri": "http://datamart.isi.edu/ontology#Item",
          "links": [],
          "properties": [
           [
            "dm:time/year",
            1
           ],
           [
            "p:P2250",
            3
           ],
           [
            "p:P5991",
            6
           ],
           [
            "dm:location/country",
            0
           ],
           [
            "wb:NY.GNP.PCAP.CD",
            4
           ],
           [
            "p:P1082",
            2
           ],
           [
            "p:P4010",
            5
           ]
          ]
         }
        },
        {
         "http://datamart.isi.edu/ontology#Item1": {
          "iri": "http://datamart.isi.edu/ontology#Item",
          "links": [],
          "properties": [
           [
            "dm:time/year",
            1
           ],
           [
            "p:P2250",
            3
           ],
           [
            "p:P5991",
            6
           ],
           [
            "dm:location/country",
            0
           ],
           [
            "wb:NY.GNP.PCAP.CD",
            4
           ],
           [
            "p:P1082",
            2
           ],
           [
            "p:P4010",
            5
           ]
          ]
         }
        },
        {
         "http://datamart.isi.edu/ontology#Item1": {
          "iri": "http://datamart.isi.edu/ontology#Item",
          "links": [],
          "properties": [
           [
            "dm:time/year",
            1
           ],
           [
            "p:P2250",
            3
           ],
           [
            "p:P5991",
            6
           ],
           [
            "dm:location/country",
            0
           ],
           [
            "wb:NY.GNP.PCAP.CD",
            4
           ],
           [
            "p:P1082",
            2
           ],
           [
            "p:P4010",
            5
           ]
          ]
         }
        },
        {
         "http://datamart.isi.edu/ontology#Item1": {
          "iri": "http://datamart.isi.edu/ontology#Item",
          "links": [],
          "properties": [
           [
            "dm:time/year",
            1
           ],
           [
            "p:P2250",
            3
           ],
           [
            "p:P5991",
            6
           ],
           [
            "dm:location/country",
            0
           ],
           [
            "wb:NY.GNP.PCAP.CD",
            4
           ],
           [
            "p:P1082",
            2
           ],
           [
            "p:P4010",
            5
           ]
          ]
         }
        },
        {
         "http://datamart.isi.edu/ontology#Item1": {
          "iri": "http://datamart.isi.edu/ontology#Item",
          "links": [],
          "properties": [
           [
            "dm:time/year",
            1
           ],
           [
            "p:P2250",
            3
           ],
           [
            "p:P5991",
            6
           ],
           [
            "dm:location/country",
            0
           ],
           [
            "wb:NY.GNP.PCAP.CD",
            4
           ],
           [
            "p:P1082",
            2
           ],
           [
            "p:P4010",
            5
           ]
          ]
         }
        },
        {
         "http://datamart.isi.edu/ontology#Item1": {
          "iri": "http://datamart.isi.edu/ontology#Item",
          "links": [],
          "properties": [
           [
            "dm:time/year",
            1
           ],
           [
            "p:P2250",
            3
           ],
           [
            "p:P5991",
            6
           ],
           [
            "dm:location/country",
            0
           ],
           [
            "wb:NY.GNP.PCAP.CD",
            4
           ],
           [
            "p:P1082",
            2
           ],
           [
            "p:P4010",
            5
           ]
          ]
         }
        },
        {
         "http://datamart.isi.edu/ontology#Item1": {
          "iri": "http://datamart.isi.edu/ontology#Item",
          "links": [],
          "properties": [
           [
            "dm:time/year",
            1
           ],
           [
            "p:P2250",
            3
           ],
           [
            "p:P5991",
            6
           ],
           [
            "dm:location/country",
            0
           ],
           [
            "wb:NY.GNP.PCAP.CD",
            4
           ],
           [
            "p:P1082",
            2
           ],
           [
            "p:P4010",
            5
           ]
          ]
         }
        }
       ]
      },
      "text/plain": [
       "<IPython.core.display.JSON object>"
      ]
     },
     "execution_count": 5,
     "metadata": {
      "application/json": {
       "expanded": false,
       "indent": 4,
       "root": "root"
      }
     },
     "output_type": "execute_result"
    }
   ],
   "source": [
    "JSON(resp.json(), indent=4)"
   ]
  },
  {
   "cell_type": "markdown",
   "metadata": {},
   "source": [
    "Run the following cell to draw the most probable semantic model"
   ]
  },
  {
   "cell_type": "code",
   "execution_count": 6,
   "metadata": {},
   "outputs": [],
   "source": [
    "data = resp.json()\n",
    "data = {\n",
    "    \"prefixes\": data['prefixes'],\n",
    "    \"sm\": data['sms'][0],\n",
    "    \"columns\": df.columns.tolist()\n",
    "}"
   ]
  },
  {
   "cell_type": "code",
   "execution_count": 7,
   "metadata": {},
   "outputs": [],
   "source": [
    "resp2 = requests.post(URL + \"/v1/draw\", json=data, auth=auth, stream=all)\n",
    "assert resp2.status_code == 200"
   ]
  },
  {
   "cell_type": "code",
   "execution_count": 8,
   "metadata": {},
   "outputs": [
    {
     "data": {
      "image/png": "[encoded data removed]",
      "text/plain": [
       "<IPython.core.display.Image object>"
      ]
     },
     "metadata": {},
     "output_type": "display_data"
    }
   ],
   "source": [
    "display(Image(resp2.content))"
   ]
  },
  {
   "cell_type": "code",
   "execution_count": null,
   "metadata": {},
   "outputs": [],
   "source": []
  }
 ],
 "metadata": {
  "kernelspec": {
   "display_name": "Python 3",
   "language": "python",
   "name": "python3"
  },
  "language_info": {
   "codemirror_mode": {
    "name": "ipython",
    "version": 3
   },
   "file_extension": ".py",
   "mimetype": "text/x-python",
   "name": "python",
   "nbconvert_exporter": "python",
   "pygments_lexer": "ipython3",
   "version": "3.7.6"
  }
 },
 "nbformat": 4,
 "nbformat_minor": 4
}
