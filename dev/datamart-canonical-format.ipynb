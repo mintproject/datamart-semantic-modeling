{
 "cells": [
  {
   "cell_type": "markdown",
   "metadata": {},
   "source": [
    "**1.** Run the following cells to setup the environment"
   ]
  },
  {
   "cell_type": "code",
   "execution_count": 37,
   "metadata": {},
   "outputs": [],
   "source": [
    "import requests, pandas as pd, json, copy\n",
    "from IPython.display import JSON, Image, HTML\n",
    "from requests.auth import HTTPBasicAuth"
   ]
  },
  {
   "cell_type": "code",
   "execution_count": 38,
   "metadata": {},
   "outputs": [],
   "source": [
    "URL = 'http://mira.isi.edu:8000'\n",
    "auth = HTTPBasicAuth('mint', 'm290sjafds8!')"
   ]
  },
  {
   "cell_type": "markdown",
   "metadata": {},
   "source": [
    "**2.** Load a dataset that we want to model, and show the content of the dataset.\n",
    "\n",
    "The dataset is supposed to be a [relational table](https://www.ibm.com/support/knowledgecenter/SSWU4L/Data/imc_Data/Data_q_a_watson_assistant/Relational_Tables371.html). If the data format is CSV, the first row is the header."
   ]
  },
  {
   "cell_type": "code",
   "execution_count": 39,
   "metadata": {},
   "outputs": [
    {
     "data": {
      "text/html": [
       "<div>\n",
       "<style scoped>\n",
       "    .dataframe tbody tr th:only-of-type {\n",
       "        vertical-align: middle;\n",
       "    }\n",
       "\n",
       "    .dataframe tbody tr th {\n",
       "        vertical-align: top;\n",
       "    }\n",
       "\n",
       "    .dataframe thead th {\n",
       "        text-align: right;\n",
       "    }\n",
       "</style>\n",
       "<table border=\"1\" class=\"dataframe\">\n",
       "  <thead>\n",
       "    <tr style=\"text-align: right;\">\n",
       "      <th></th>\n",
       "      <th>Unnamed: 0</th>\n",
       "      <th>date</th>\n",
       "      <th>cmname</th>\n",
       "      <th>unit</th>\n",
       "      <th>category</th>\n",
       "      <th>price</th>\n",
       "      <th>currency</th>\n",
       "      <th>country</th>\n",
       "      <th>admname</th>\n",
       "      <th>adm1id</th>\n",
       "      <th>mktname</th>\n",
       "      <th>mktid</th>\n",
       "      <th>cmid</th>\n",
       "      <th>ptid</th>\n",
       "      <th>umid</th>\n",
       "      <th>catid</th>\n",
       "      <th>sn</th>\n",
       "      <th>default</th>\n",
       "    </tr>\n",
       "  </thead>\n",
       "  <tbody>\n",
       "    <tr>\n",
       "      <th>0</th>\n",
       "      <td>NaN</td>\n",
       "      <td>#date</td>\n",
       "      <td>#item+name</td>\n",
       "      <td>#item+unit</td>\n",
       "      <td>#item+type</td>\n",
       "      <td>#value</td>\n",
       "      <td>#currency</td>\n",
       "      <td>#country+name</td>\n",
       "      <td>#adm1+name</td>\n",
       "      <td>#adm1+code</td>\n",
       "      <td>#name+market</td>\n",
       "      <td>NaN</td>\n",
       "      <td>#item+code</td>\n",
       "      <td>NaN</td>\n",
       "      <td>NaN</td>\n",
       "      <td>#item+type+code</td>\n",
       "      <td>#meta+id</td>\n",
       "      <td>NaN</td>\n",
       "    </tr>\n",
       "    <tr>\n",
       "      <th>1</th>\n",
       "      <td>NaN</td>\n",
       "      <td>7/15/2005</td>\n",
       "      <td>Sorghum - Wholesale</td>\n",
       "      <td>100 KG</td>\n",
       "      <td>cereals and tubers</td>\n",
       "      <td>238</td>\n",
       "      <td>ETB</td>\n",
       "      <td>Ethiopia</td>\n",
       "      <td>Addis Ababa</td>\n",
       "      <td>1227</td>\n",
       "      <td>Addis Ababa</td>\n",
       "      <td>480.0</td>\n",
       "      <td>65</td>\n",
       "      <td>14.0</td>\n",
       "      <td>9.0</td>\n",
       "      <td>1</td>\n",
       "      <td>480_65_14_9</td>\n",
       "      <td>NaN</td>\n",
       "    </tr>\n",
       "    <tr>\n",
       "      <th>2</th>\n",
       "      <td>NaN</td>\n",
       "      <td>8/15/2005</td>\n",
       "      <td>Sorghum - Wholesale</td>\n",
       "      <td>100 KG</td>\n",
       "      <td>cereals and tubers</td>\n",
       "      <td>250</td>\n",
       "      <td>ETB</td>\n",
       "      <td>Ethiopia</td>\n",
       "      <td>Addis Ababa</td>\n",
       "      <td>1227</td>\n",
       "      <td>Addis Ababa</td>\n",
       "      <td>480.0</td>\n",
       "      <td>65</td>\n",
       "      <td>14.0</td>\n",
       "      <td>9.0</td>\n",
       "      <td>1</td>\n",
       "      <td>480_65_14_9</td>\n",
       "      <td>NaN</td>\n",
       "    </tr>\n",
       "    <tr>\n",
       "      <th>3</th>\n",
       "      <td>NaN</td>\n",
       "      <td>9/15/2005</td>\n",
       "      <td>Sorghum - Wholesale</td>\n",
       "      <td>100 KG</td>\n",
       "      <td>cereals and tubers</td>\n",
       "      <td>248</td>\n",
       "      <td>ETB</td>\n",
       "      <td>Ethiopia</td>\n",
       "      <td>Addis Ababa</td>\n",
       "      <td>1227</td>\n",
       "      <td>Addis Ababa</td>\n",
       "      <td>480.0</td>\n",
       "      <td>65</td>\n",
       "      <td>14.0</td>\n",
       "      <td>9.0</td>\n",
       "      <td>1</td>\n",
       "      <td>480_65_14_9</td>\n",
       "      <td>NaN</td>\n",
       "    </tr>\n",
       "    <tr>\n",
       "      <th>4</th>\n",
       "      <td>NaN</td>\n",
       "      <td>10/15/2005</td>\n",
       "      <td>Sorghum - Wholesale</td>\n",
       "      <td>100 KG</td>\n",
       "      <td>cereals and tubers</td>\n",
       "      <td>233</td>\n",
       "      <td>ETB</td>\n",
       "      <td>Ethiopia</td>\n",
       "      <td>Addis Ababa</td>\n",
       "      <td>1227</td>\n",
       "      <td>Addis Ababa</td>\n",
       "      <td>480.0</td>\n",
       "      <td>65</td>\n",
       "      <td>14.0</td>\n",
       "      <td>9.0</td>\n",
       "      <td>1</td>\n",
       "      <td>480_65_14_9</td>\n",
       "      <td>NaN</td>\n",
       "    </tr>\n",
       "  </tbody>\n",
       "</table>\n",
       "</div>"
      ],
      "text/plain": [
       "   Unnamed: 0        date               cmname        unit  \\\n",
       "0         NaN       #date           #item+name  #item+unit   \n",
       "1         NaN   7/15/2005  Sorghum - Wholesale      100 KG   \n",
       "2         NaN   8/15/2005  Sorghum - Wholesale      100 KG   \n",
       "3         NaN   9/15/2005  Sorghum - Wholesale      100 KG   \n",
       "4         NaN  10/15/2005  Sorghum - Wholesale      100 KG   \n",
       "\n",
       "             category   price   currency        country      admname  \\\n",
       "0          #item+type  #value  #currency  #country+name   #adm1+name   \n",
       "1  cereals and tubers     238        ETB       Ethiopia  Addis Ababa   \n",
       "2  cereals and tubers     250        ETB       Ethiopia  Addis Ababa   \n",
       "3  cereals and tubers     248        ETB       Ethiopia  Addis Ababa   \n",
       "4  cereals and tubers     233        ETB       Ethiopia  Addis Ababa   \n",
       "\n",
       "       adm1id       mktname  mktid        cmid  ptid  umid            catid  \\\n",
       "0  #adm1+code  #name+market    NaN  #item+code   NaN   NaN  #item+type+code   \n",
       "1        1227   Addis Ababa  480.0          65  14.0   9.0                1   \n",
       "2        1227   Addis Ababa  480.0          65  14.0   9.0                1   \n",
       "3        1227   Addis Ababa  480.0          65  14.0   9.0                1   \n",
       "4        1227   Addis Ababa  480.0          65  14.0   9.0                1   \n",
       "\n",
       "            sn  default  \n",
       "0     #meta+id      NaN  \n",
       "1  480_65_14_9      NaN  \n",
       "2  480_65_14_9      NaN  \n",
       "3  480_65_14_9      NaN  \n",
       "4  480_65_14_9      NaN  "
      ]
     },
     "execution_count": 39,
     "metadata": {},
     "output_type": "execute_result"
    }
   ],
   "source": [
    "pd.set_option('display.max_columns', None)\n",
    "df = pd.read_csv('~/Downloads/s02.csv', header=0)\n",
    "df.head(5)"
   ]
  },
  {
   "cell_type": "markdown",
   "metadata": {},
   "source": [
    "**3.** To send the table to the API for annotation, we need to convert the original table into a JSON format below:\n",
    "```json\n",
    "{\n",
    "    \"ontologies\": [\"http://wikiba.se/ontology#\"],\n",
    "    \"source\": [\n",
    "        {\"name\": \"<column name>\", \"values\": [\"<value of the column in first row>\", \"<value of the column in second row>\", \"...\"]\n",
    "    ]\n",
    "}\n",
    "```\n",
    "and send it in the body of a `POST` request to `/v1.1/annotate`"
   ]
  },
  {
   "cell_type": "code",
   "execution_count": 42,
   "metadata": {},
   "outputs": [],
   "source": [
    "payload = {\n",
    "    \"ontologies\": [\"http://datamart.isi.edu/ontology#\"],\n",
    "    \"source\": [\n",
    "        {\"name\": \"\" if c.startswith(\"Unnamed:\") else c, \"values\": df[c].tolist()}\n",
    "        for c in df.columns\n",
    "    ]\n",
    "}\n",
    "resp = requests.post(URL + \"/v1.1/annotate\", json=payload, auth=auth)\n",
    "assert resp.status_code == 200"
   ]
  },
  {
   "cell_type": "markdown",
   "metadata": {},
   "source": [
    "**4.** The JSON response that the server returns are in the following format:\n",
    "```json\n",
    "{\n",
    "    \"sms\": [{\n",
    "        \"<ont_class_id>\": {\n",
    "            \"iri\": \"<uri of the ontology class>\",\n",
    "            \"properties\": [\n",
    "                [\"<ontology predicate 1>\", \"<column_index>\"], \n",
    "                [\"<ontology predicate 2>\", \"<column_index>\"]\n",
    "            ],\n",
    "            \"links\": [\n",
    "                [\"<ontology predicate 1>\", \"<ont_class_id>\"]\n",
    "            ]\n",
    "        }\n",
    "    }],\n",
    "    \"semantic_types\": [\n",
    "        [{\n",
    "            \"class\": \"<ontology class uri>\",\n",
    "            \"predicate\": \"<ontology predicate uri>\",\n",
    "            \"prob\": \"<probability of this semantic type (float)>\"\n",
    "        }]\n",
    "    ],\n",
    "    \"prefixes\": {\n",
    "        \"<prefix>\": \"<url>\"\n",
    "    }\n",
    "}\n",
    "```\n",
    "where:\n",
    "* `sms` is a list of predicted semantic models, sorted by the likelihood\n",
    "* `semantic_types` is a list containing predicted semantic types for each column. In particular, an ith item in the list is predicted semantic types of the ith column in the data source."
   ]
  },
  {
   "cell_type": "code",
   "execution_count": 43,
   "metadata": {},
   "outputs": [
    {
     "data": {
      "application/json": {
       "prefixes": {
        "dbpedia-owl": "http://dbpedia.org/ontology/",
        "dbpedia-resource": "http://dbpedia.org/resource/",
        "dm": "http://datamart.isi.edu/ontology#",
        "p": "http://www.wikidata.org/prop/",
        "pq": "http://www.wikidata.org/prop/qualifier/",
        "ps": "http://www.wikidata.org/prop/statement/",
        "rdfs": "http://www.w3.org/2000/01/rdf-schema#",
        "schema": "http://schema.org/",
        "wikibase": "http://wikiba.se/ontology#",
        "worldbank": "http://worldbank.org/ontology/indicator#"
       },
       "semantic_types": [
        [
         {
          "class": "wikibase:Item",
          "predicate": "dm:main_subject",
          "prob": 0.1813949455149063
         },
         {
          "class": "wikibase:Item",
          "predicate": "dm:time/year",
          "prob": 0.1813949455149063
         },
         {
          "class": "wikibase:Item",
          "predicate": "dm:time/month",
          "prob": 0.1813949455149063
         },
         {
          "class": "wikibase:Item",
          "predicate": "dm:time/day",
          "prob": 0.1813949455149063
         }
        ],
        [
         {
          "class": "wikibase:Item",
          "predicate": "dm:time",
          "prob": 0.9784842404207831
         },
         {
          "class": "wikibase:Item",
          "predicate": "dm:main_subject",
          "prob": 0.1813949455149063
         },
         {
          "class": "wikibase:Item",
          "predicate": "dm:time/year",
          "prob": 0.1813949455149063
         },
         {
          "class": "wikibase:Item",
          "predicate": "dm:time/month",
          "prob": 0.1813949455149063
         }
        ],
        [
         {
          "class": "wikibase:Item",
          "predicate": "dm:main_subject",
          "prob": 0.9534842404207831
         },
         {
          "class": "wikibase:Item",
          "predicate": "dm:time/year",
          "prob": 0.1813949455149063
         },
         {
          "class": "wikibase:Item",
          "predicate": "dm:time/month",
          "prob": 0.1813949455149063
         },
         {
          "class": "wikibase:Item",
          "predicate": "dm:time/day",
          "prob": 0.1813949455149063
         }
        ],
        [
         {
          "class": "wikibase:Item",
          "predicate": "dm:unit",
          "prob": 0.9534842404207831
         },
         {
          "class": "wikibase:Item",
          "predicate": "dm:main_subject",
          "prob": 0.1813949455149063
         },
         {
          "class": "wikibase:Item",
          "predicate": "dm:time/year",
          "prob": 0.1813949455149063
         },
         {
          "class": "wikibase:Item",
          "predicate": "dm:time/month",
          "prob": 0.1813949455149063
         }
        ],
        [
         {
          "class": "wikibase:Item",
          "predicate": "p:P4224",
          "prob": 0.9784842404207831
         },
         {
          "class": "wikibase:Item",
          "predicate": "dm:main_subject",
          "prob": 0.8925563311421004
         },
         {
          "class": "wikibase:Item",
          "predicate": "dm:location/city",
          "prob": 0.8613625745310499
         },
         {
          "class": "wikibase:Item",
          "predicate": "dm:time/year",
          "prob": 0.1813949455149063
         }
        ],
        [
         {
          "class": "wikibase:Item",
          "predicate": "dm:variable",
          "prob": 0.8833186848545499
         },
         {
          "class": "wikibase:Item",
          "predicate": "dm:qualifier",
          "prob": 0.518725101359796
         },
         {
          "class": "wikibase:Item",
          "predicate": "dm:time/day",
          "prob": 0.3535059621372967
         },
         {
          "class": "wikibase:Item",
          "predicate": "dm:location/latitude",
          "prob": 0.35287669802491417
         }
        ],
        [
         {
          "class": "wikibase:Item",
          "predicate": "dm:unit",
          "prob": 0.9784842404207831
         },
         {
          "class": "wikibase:Item",
          "predicate": "dm:main_subject",
          "prob": 0.1813949455149063
         },
         {
          "class": "wikibase:Item",
          "predicate": "dm:time/year",
          "prob": 0.1813949455149063
         },
         {
          "class": "wikibase:Item",
          "predicate": "dm:time/month",
          "prob": 0.1813949455149063
         }
        ],
        [
         {
          "class": "wikibase:Item",
          "predicate": "dm:location/country",
          "prob": 0.9784842404207831
         },
         {
          "class": "wikibase:Item",
          "predicate": "dm:main_subject",
          "prob": 0.1813949455149063
         },
         {
          "class": "wikibase:Item",
          "predicate": "dm:time/year",
          "prob": 0.1813949455149063
         },
         {
          "class": "wikibase:Item",
          "predicate": "dm:time/month",
          "prob": 0.1813949455149063
         }
        ],
        [
         {
          "class": "wikibase:Item",
          "predicate": "dm:qualifier",
          "prob": 0.9131778076137671
         },
         {
          "class": "wikibase:Item",
          "predicate": "dm:location/admin1",
          "prob": 0.2836106011334556
         },
         {
          "class": "wikibase:Item",
          "predicate": "dm:location/city",
          "prob": 0.2560834540455978
         },
         {
          "class": "wikibase:Item",
          "predicate": "dm:main_subject",
          "prob": 0.1813949455149063
         }
        ],
        [
         {
          "class": "wikibase:Item",
          "predicate": "dm:location/admin1",
          "prob": 0.9634842404207831
         },
         {
          "class": "wikibase:Item",
          "predicate": "dm:qualifier",
          "prob": 0.518725101359796
         },
         {
          "class": "wikibase:Item",
          "predicate": "dm:time/year",
          "prob": 0.35287669802491417
         },
         {
          "class": "wikibase:Item",
          "predicate": "dm:time/month",
          "prob": 0.1813949455149063
         }
        ],
        [
         {
          "class": "wikibase:Item",
          "predicate": "dm:qualifier",
          "prob": 0.9131778076137671
         },
         {
          "class": "wikibase:Item",
          "predicate": "dm:main_subject",
          "prob": 0.1813949455149063
         },
         {
          "class": "wikibase:Item",
          "predicate": "dm:time/year",
          "prob": 0.1813949455149063
         },
         {
          "class": "wikibase:Item",
          "predicate": "dm:time/month",
          "prob": 0.1813949455149063
         }
        ],
        [
         {
          "class": "wikibase:Item",
          "predicate": "dm:variable",
          "prob": 0.28602308142245036
         },
         {
          "class": "wikibase:Item",
          "predicate": "dm:time/year",
          "prob": 0.1813949455149063
         },
         {
          "class": "wikibase:Item",
          "predicate": "dm:time/month",
          "prob": 0.1813949455149063
         },
         {
          "class": "wikibase:Item",
          "predicate": "dm:time/day",
          "prob": 0.1813949455149063
         }
        ],
        [
         {
          "class": "wikibase:Item",
          "predicate": "dm:qualifier",
          "prob": 0.9368764106470228
         },
         {
          "class": "wikibase:Item",
          "predicate": "dm:main_subject",
          "prob": 0.1813949455149063
         },
         {
          "class": "wikibase:Item",
          "predicate": "dm:time/year",
          "prob": 0.1813949455149063
         },
         {
          "class": "wikibase:Item",
          "predicate": "dm:time/month",
          "prob": 0.1813949455149063
         }
        ],
        [
         {
          "class": "wikibase:Item",
          "predicate": "dm:main_subject",
          "prob": 0.1813949455149063
         },
         {
          "class": "wikibase:Item",
          "predicate": "dm:time/year",
          "prob": 0.1813949455149063
         },
         {
          "class": "wikibase:Item",
          "predicate": "dm:time/month",
          "prob": 0.1813949455149063
         },
         {
          "class": "wikibase:Item",
          "predicate": "dm:location/country",
          "prob": 0.1813949455149063
         }
        ],
        [
         {
          "class": "wikibase:Item",
          "predicate": "dm:location/latitude",
          "prob": 0.3535059621372967
         },
         {
          "class": "wikibase:Item",
          "predicate": "dm:time/day",
          "prob": 0.28602308142245036
         },
         {
          "class": "wikibase:Item",
          "predicate": "dm:time/month",
          "prob": 0.23584221095227734
         },
         {
          "class": "wikibase:Item",
          "predicate": "dm:main_subject",
          "prob": 0.1813949455149063
         }
        ],
        [
         {
          "class": "wikibase:Item",
          "predicate": "dm:variable",
          "prob": 1
         },
         {
          "class": "wikibase:Item",
          "predicate": "dm:time/month",
          "prob": 0.8260052792329587
         },
         {
          "class": "wikibase:Item",
          "predicate": "dm:time/day",
          "prob": 0.7471246175344924
         },
         {
          "class": "wikibase:Item",
          "predicate": "dm:main_subject",
          "prob": 0.1813949455149063
         }
        ],
        [
         {
          "class": "wikibase:Item",
          "predicate": "dm:main_subject",
          "prob": 0.1813949455149063
         },
         {
          "class": "wikibase:Item",
          "predicate": "dm:time/year",
          "prob": 0.1813949455149063
         },
         {
          "class": "wikibase:Item",
          "predicate": "dm:time/month",
          "prob": 0.1813949455149063
         },
         {
          "class": "wikibase:Item",
          "predicate": "dm:time/day",
          "prob": 0.1813949455149063
         }
        ],
        [
         {
          "class": "wikibase:Item",
          "predicate": "dm:main_subject",
          "prob": 0.1813949455149063
         },
         {
          "class": "wikibase:Item",
          "predicate": "dm:time/year",
          "prob": 0.1813949455149063
         },
         {
          "class": "wikibase:Item",
          "predicate": "dm:time/month",
          "prob": 0.1813949455149063
         },
         {
          "class": "wikibase:Item",
          "predicate": "dm:time/day",
          "prob": 0.1813949455149063
         }
        ]
       ],
       "sms": [
        {
         "http://wikiba.se/ontology#Item1": {
          "iri": "http://wikiba.se/ontology#Item",
          "links": [],
          "properties": [
           [
            "dm:time",
            1
           ],
           [
            "dm:qualifier",
            12
           ],
           [
            "dm:time/month",
            6
           ],
           [
            "dm:time/day",
            11
           ],
           [
            "dm:qualifier",
            10
           ],
           [
            "dm:variable",
            5
           ],
           [
            "dm:location/latitude",
            14
           ],
           [
            "dm:location/admin1",
            9
           ],
           [
            "dm:location/country",
            7
           ],
           [
            "dm:qualifier",
            8
           ],
           [
            "dm:unit",
            3
           ],
           [
            "dm:main_subject",
            0
           ],
           [
            "p:P4224",
            4
           ],
           [
            "dm:variable",
            15
           ],
           [
            "dm:time/year",
            2
           ]
          ]
         }
        },
        {
         "http://wikiba.se/ontology#Item1": {
          "iri": "http://wikiba.se/ontology#Item",
          "links": [],
          "properties": [
           [
            "dm:time",
            1
           ],
           [
            "dm:qualifier",
            12
           ],
           [
            "dm:time/month",
            6
           ],
           [
            "dm:time/day",
            11
           ],
           [
            "dm:qualifier",
            10
           ],
           [
            "dm:variable",
            5
           ],
           [
            "dm:location/latitude",
            14
           ],
           [
            "dm:location/admin1",
            9
           ],
           [
            "dm:location/country",
            7
           ],
           [
            "dm:qualifier",
            8
           ],
           [
            "dm:unit",
            3
           ],
           [
            "dm:main_subject",
            0
           ],
           [
            "p:P4224",
            4
           ],
           [
            "dm:variable",
            15
           ],
           [
            "dm:time/year",
            2
           ]
          ]
         }
        },
        {
         "http://wikiba.se/ontology#Item1": {
          "iri": "http://wikiba.se/ontology#Item",
          "links": [],
          "properties": [
           [
            "dm:time",
            1
           ],
           [
            "dm:qualifier",
            12
           ],
           [
            "dm:time/month",
            6
           ],
           [
            "dm:time/day",
            11
           ],
           [
            "dm:qualifier",
            10
           ],
           [
            "dm:variable",
            5
           ],
           [
            "dm:location/latitude",
            14
           ],
           [
            "dm:location/admin1",
            9
           ],
           [
            "dm:location/country",
            7
           ],
           [
            "dm:qualifier",
            8
           ],
           [
            "dm:unit",
            3
           ],
           [
            "dm:main_subject",
            0
           ],
           [
            "p:P4224",
            4
           ],
           [
            "dm:variable",
            15
           ],
           [
            "dm:time/year",
            2
           ]
          ]
         }
        },
        {
         "http://wikiba.se/ontology#Item1": {
          "iri": "http://wikiba.se/ontology#Item",
          "links": [],
          "properties": [
           [
            "dm:time",
            1
           ],
           [
            "dm:qualifier",
            12
           ],
           [
            "dm:time/month",
            6
           ],
           [
            "dm:time/day",
            11
           ],
           [
            "dm:qualifier",
            10
           ],
           [
            "dm:variable",
            5
           ],
           [
            "dm:location/latitude",
            14
           ],
           [
            "dm:location/admin1",
            9
           ],
           [
            "dm:location/country",
            7
           ],
           [
            "dm:qualifier",
            8
           ],
           [
            "dm:unit",
            3
           ],
           [
            "dm:main_subject",
            0
           ],
           [
            "p:P4224",
            4
           ],
           [
            "dm:variable",
            15
           ],
           [
            "dm:time/year",
            2
           ]
          ]
         }
        },
        {
         "http://wikiba.se/ontology#Item1": {
          "iri": "http://wikiba.se/ontology#Item",
          "links": [],
          "properties": [
           [
            "dm:time",
            1
           ],
           [
            "dm:qualifier",
            12
           ],
           [
            "dm:time/month",
            6
           ],
           [
            "dm:time/day",
            11
           ],
           [
            "dm:qualifier",
            10
           ],
           [
            "dm:variable",
            5
           ],
           [
            "dm:location/latitude",
            14
           ],
           [
            "dm:location/admin1",
            9
           ],
           [
            "dm:location/country",
            7
           ],
           [
            "dm:qualifier",
            8
           ],
           [
            "dm:unit",
            3
           ],
           [
            "dm:main_subject",
            0
           ],
           [
            "p:P4224",
            4
           ],
           [
            "dm:variable",
            15
           ],
           [
            "dm:time/year",
            2
           ]
          ]
         }
        },
        {
         "http://wikiba.se/ontology#Item1": {
          "iri": "http://wikiba.se/ontology#Item",
          "links": [],
          "properties": [
           [
            "dm:time",
            1
           ],
           [
            "dm:qualifier",
            12
           ],
           [
            "dm:time/month",
            6
           ],
           [
            "dm:time/day",
            11
           ],
           [
            "dm:qualifier",
            10
           ],
           [
            "dm:variable",
            5
           ],
           [
            "dm:location/latitude",
            14
           ],
           [
            "dm:location/admin1",
            9
           ],
           [
            "dm:location/country",
            7
           ],
           [
            "dm:qualifier",
            8
           ],
           [
            "dm:unit",
            3
           ],
           [
            "dm:main_subject",
            0
           ],
           [
            "p:P4224",
            4
           ],
           [
            "dm:variable",
            15
           ],
           [
            "dm:time/year",
            2
           ]
          ]
         }
        },
        {
         "http://wikiba.se/ontology#Item1": {
          "iri": "http://wikiba.se/ontology#Item",
          "links": [],
          "properties": [
           [
            "dm:time",
            1
           ],
           [
            "dm:qualifier",
            12
           ],
           [
            "dm:time/month",
            6
           ],
           [
            "dm:time/day",
            11
           ],
           [
            "dm:qualifier",
            10
           ],
           [
            "dm:variable",
            5
           ],
           [
            "dm:location/latitude",
            14
           ],
           [
            "dm:location/admin1",
            9
           ],
           [
            "dm:location/country",
            7
           ],
           [
            "dm:qualifier",
            8
           ],
           [
            "dm:unit",
            3
           ],
           [
            "dm:main_subject",
            0
           ],
           [
            "p:P4224",
            4
           ],
           [
            "dm:variable",
            15
           ],
           [
            "dm:time/year",
            2
           ]
          ]
         }
        },
        {
         "http://wikiba.se/ontology#Item1": {
          "iri": "http://wikiba.se/ontology#Item",
          "links": [],
          "properties": [
           [
            "dm:time",
            1
           ],
           [
            "dm:qualifier",
            12
           ],
           [
            "dm:time/month",
            6
           ],
           [
            "dm:time/day",
            11
           ],
           [
            "dm:qualifier",
            10
           ],
           [
            "dm:variable",
            5
           ],
           [
            "dm:location/latitude",
            14
           ],
           [
            "dm:location/admin1",
            9
           ],
           [
            "dm:location/country",
            7
           ],
           [
            "dm:qualifier",
            8
           ],
           [
            "dm:unit",
            3
           ],
           [
            "dm:main_subject",
            0
           ],
           [
            "p:P4224",
            4
           ],
           [
            "dm:variable",
            15
           ],
           [
            "dm:time/year",
            2
           ]
          ]
         }
        },
        {
         "http://wikiba.se/ontology#Item1": {
          "iri": "http://wikiba.se/ontology#Item",
          "links": [],
          "properties": [
           [
            "dm:time",
            1
           ],
           [
            "dm:qualifier",
            12
           ],
           [
            "dm:time/month",
            6
           ],
           [
            "dm:time/day",
            11
           ],
           [
            "dm:qualifier",
            10
           ],
           [
            "dm:variable",
            5
           ],
           [
            "dm:location/latitude",
            14
           ],
           [
            "dm:location/admin1",
            9
           ],
           [
            "dm:location/country",
            7
           ],
           [
            "dm:qualifier",
            8
           ],
           [
            "dm:unit",
            3
           ],
           [
            "dm:main_subject",
            0
           ],
           [
            "p:P4224",
            4
           ],
           [
            "dm:variable",
            15
           ],
           [
            "dm:time/year",
            2
           ]
          ]
         }
        },
        {
         "http://wikiba.se/ontology#Item1": {
          "iri": "http://wikiba.se/ontology#Item",
          "links": [],
          "properties": [
           [
            "dm:time",
            1
           ],
           [
            "dm:qualifier",
            12
           ],
           [
            "dm:time/month",
            6
           ],
           [
            "dm:time/day",
            11
           ],
           [
            "dm:qualifier",
            10
           ],
           [
            "dm:variable",
            5
           ],
           [
            "dm:location/latitude",
            14
           ],
           [
            "dm:location/admin1",
            9
           ],
           [
            "dm:location/country",
            7
           ],
           [
            "dm:qualifier",
            8
           ],
           [
            "dm:unit",
            3
           ],
           [
            "dm:main_subject",
            0
           ],
           [
            "p:P4224",
            4
           ],
           [
            "dm:variable",
            15
           ],
           [
            "dm:time/year",
            2
           ]
          ]
         }
        },
        {
         "http://wikiba.se/ontology#Item1": {
          "iri": "http://wikiba.se/ontology#Item",
          "links": [],
          "properties": [
           [
            "dm:time",
            1
           ],
           [
            "dm:qualifier",
            12
           ],
           [
            "dm:time/month",
            6
           ],
           [
            "dm:time/day",
            11
           ],
           [
            "dm:qualifier",
            10
           ],
           [
            "dm:variable",
            5
           ],
           [
            "dm:location/latitude",
            14
           ],
           [
            "dm:location/admin1",
            9
           ],
           [
            "dm:location/country",
            7
           ],
           [
            "dm:qualifier",
            8
           ],
           [
            "dm:unit",
            3
           ],
           [
            "dm:main_subject",
            0
           ],
           [
            "p:P4224",
            4
           ],
           [
            "dm:variable",
            15
           ],
           [
            "dm:time/year",
            2
           ]
          ]
         }
        },
        {
         "http://wikiba.se/ontology#Item1": {
          "iri": "http://wikiba.se/ontology#Item",
          "links": [],
          "properties": [
           [
            "dm:time",
            1
           ],
           [
            "dm:qualifier",
            12
           ],
           [
            "dm:time/month",
            6
           ],
           [
            "dm:time/day",
            11
           ],
           [
            "dm:qualifier",
            10
           ],
           [
            "dm:variable",
            5
           ],
           [
            "dm:location/latitude",
            14
           ],
           [
            "dm:location/admin1",
            9
           ],
           [
            "dm:location/country",
            7
           ],
           [
            "dm:qualifier",
            8
           ],
           [
            "dm:unit",
            3
           ],
           [
            "dm:main_subject",
            0
           ],
           [
            "p:P4224",
            4
           ],
           [
            "dm:variable",
            15
           ],
           [
            "dm:time/year",
            2
           ]
          ]
         }
        },
        {
         "http://wikiba.se/ontology#Item1": {
          "iri": "http://wikiba.se/ontology#Item",
          "links": [],
          "properties": [
           [
            "dm:time",
            1
           ],
           [
            "dm:qualifier",
            12
           ],
           [
            "dm:time/month",
            6
           ],
           [
            "dm:time/day",
            11
           ],
           [
            "dm:qualifier",
            10
           ],
           [
            "dm:variable",
            5
           ],
           [
            "dm:location/latitude",
            14
           ],
           [
            "dm:location/admin1",
            9
           ],
           [
            "dm:location/country",
            7
           ],
           [
            "dm:qualifier",
            8
           ],
           [
            "dm:unit",
            3
           ],
           [
            "dm:main_subject",
            0
           ],
           [
            "p:P4224",
            4
           ],
           [
            "dm:variable",
            15
           ],
           [
            "dm:time/year",
            2
           ]
          ]
         }
        },
        {
         "http://wikiba.se/ontology#Item1": {
          "iri": "http://wikiba.se/ontology#Item",
          "links": [],
          "properties": [
           [
            "dm:time",
            1
           ],
           [
            "dm:qualifier",
            12
           ],
           [
            "dm:time/month",
            6
           ],
           [
            "dm:time/day",
            11
           ],
           [
            "dm:qualifier",
            10
           ],
           [
            "dm:variable",
            5
           ],
           [
            "dm:location/latitude",
            14
           ],
           [
            "dm:location/admin1",
            9
           ],
           [
            "dm:location/country",
            7
           ],
           [
            "dm:qualifier",
            8
           ],
           [
            "dm:unit",
            3
           ],
           [
            "dm:main_subject",
            0
           ],
           [
            "p:P4224",
            4
           ],
           [
            "dm:variable",
            15
           ],
           [
            "dm:time/year",
            2
           ]
          ]
         }
        },
        {
         "http://wikiba.se/ontology#Item1": {
          "iri": "http://wikiba.se/ontology#Item",
          "links": [],
          "properties": [
           [
            "dm:time",
            1
           ],
           [
            "dm:qualifier",
            12
           ],
           [
            "dm:time/month",
            6
           ],
           [
            "dm:time/day",
            11
           ],
           [
            "dm:qualifier",
            10
           ],
           [
            "dm:variable",
            5
           ],
           [
            "dm:location/latitude",
            14
           ],
           [
            "dm:location/admin1",
            9
           ],
           [
            "dm:location/country",
            7
           ],
           [
            "dm:qualifier",
            8
           ],
           [
            "dm:unit",
            3
           ],
           [
            "dm:main_subject",
            0
           ],
           [
            "p:P4224",
            4
           ],
           [
            "dm:variable",
            15
           ],
           [
            "dm:time/year",
            2
           ]
          ]
         }
        },
        {
         "http://wikiba.se/ontology#Item1": {
          "iri": "http://wikiba.se/ontology#Item",
          "links": [],
          "properties": [
           [
            "dm:time",
            1
           ],
           [
            "dm:qualifier",
            12
           ],
           [
            "dm:time/month",
            6
           ],
           [
            "dm:time/day",
            11
           ],
           [
            "dm:qualifier",
            10
           ],
           [
            "dm:variable",
            5
           ],
           [
            "dm:location/latitude",
            14
           ],
           [
            "dm:location/admin1",
            9
           ],
           [
            "dm:location/country",
            7
           ],
           [
            "dm:qualifier",
            8
           ],
           [
            "dm:unit",
            3
           ],
           [
            "dm:main_subject",
            0
           ],
           [
            "p:P4224",
            4
           ],
           [
            "dm:variable",
            15
           ],
           [
            "dm:time/year",
            2
           ]
          ]
         }
        },
        {
         "http://wikiba.se/ontology#Item1": {
          "iri": "http://wikiba.se/ontology#Item",
          "links": [],
          "properties": [
           [
            "dm:time",
            1
           ],
           [
            "dm:qualifier",
            12
           ],
           [
            "dm:time/month",
            6
           ],
           [
            "dm:time/day",
            11
           ],
           [
            "dm:qualifier",
            10
           ],
           [
            "dm:variable",
            5
           ],
           [
            "dm:location/latitude",
            14
           ],
           [
            "dm:location/admin1",
            9
           ],
           [
            "dm:location/country",
            7
           ],
           [
            "dm:qualifier",
            8
           ],
           [
            "dm:unit",
            3
           ],
           [
            "dm:main_subject",
            0
           ],
           [
            "p:P4224",
            4
           ],
           [
            "dm:variable",
            15
           ],
           [
            "dm:time/year",
            2
           ]
          ]
         }
        },
        {
         "http://wikiba.se/ontology#Item1": {
          "iri": "http://wikiba.se/ontology#Item",
          "links": [],
          "properties": [
           [
            "dm:time",
            1
           ],
           [
            "dm:qualifier",
            12
           ],
           [
            "dm:time/month",
            6
           ],
           [
            "dm:time/day",
            11
           ],
           [
            "dm:qualifier",
            10
           ],
           [
            "dm:variable",
            5
           ],
           [
            "dm:location/latitude",
            14
           ],
           [
            "dm:location/admin1",
            9
           ],
           [
            "dm:location/country",
            7
           ],
           [
            "dm:qualifier",
            8
           ],
           [
            "dm:unit",
            3
           ],
           [
            "dm:main_subject",
            0
           ],
           [
            "p:P4224",
            4
           ],
           [
            "dm:variable",
            15
           ],
           [
            "dm:time/year",
            2
           ]
          ]
         }
        }
       ]
      },
      "text/plain": [
       "<IPython.core.display.JSON object>"
      ]
     },
     "execution_count": 43,
     "metadata": {
      "application/json": {
       "expanded": false,
       "indent": 4,
       "root": "root"
      }
     },
     "output_type": "execute_result"
    }
   ],
   "source": [
    "JSON(resp.json(), indent=4)"
   ]
  },
  {
   "cell_type": "markdown",
   "metadata": {},
   "source": [
    "Run the following cell to tag each column with a type"
   ]
  },
  {
   "cell_type": "code",
   "execution_count": 44,
   "metadata": {},
   "outputs": [],
   "source": [
    "headers = df.columns.tolist()"
   ]
  },
  {
   "cell_type": "code",
   "execution_count": 45,
   "metadata": {},
   "outputs": [],
   "source": [
    "data = resp.json()\n",
    "columns = []\n",
    "for ci, c in enumerate(headers):\n",
    "    stype = data['semantic_types'][ci]\n",
    "    cname = f\"{stype[0]['predicate']}\"\n",
    "    columns.append(cname)\n",
    "\n",
    "df.loc[0] = columns"
   ]
  },
  {
   "cell_type": "code",
   "execution_count": 46,
   "metadata": {},
   "outputs": [
    {
     "data": {
      "text/html": [
       "<div>\n",
       "<style scoped>\n",
       "    .dataframe tbody tr th:only-of-type {\n",
       "        vertical-align: middle;\n",
       "    }\n",
       "\n",
       "    .dataframe tbody tr th {\n",
       "        vertical-align: top;\n",
       "    }\n",
       "\n",
       "    .dataframe thead th {\n",
       "        text-align: right;\n",
       "    }\n",
       "</style>\n",
       "<table border=\"1\" class=\"dataframe\">\n",
       "  <thead>\n",
       "    <tr style=\"text-align: right;\">\n",
       "      <th></th>\n",
       "      <th>Unnamed: 0</th>\n",
       "      <th>date</th>\n",
       "      <th>cmname</th>\n",
       "      <th>unit</th>\n",
       "      <th>category</th>\n",
       "      <th>price</th>\n",
       "      <th>currency</th>\n",
       "      <th>country</th>\n",
       "      <th>admname</th>\n",
       "      <th>adm1id</th>\n",
       "      <th>mktname</th>\n",
       "      <th>mktid</th>\n",
       "      <th>cmid</th>\n",
       "      <th>ptid</th>\n",
       "      <th>umid</th>\n",
       "      <th>catid</th>\n",
       "      <th>sn</th>\n",
       "      <th>default</th>\n",
       "    </tr>\n",
       "  </thead>\n",
       "  <tbody>\n",
       "    <tr>\n",
       "      <th>0</th>\n",
       "      <td>dm:main_subject</td>\n",
       "      <td>dm:time</td>\n",
       "      <td>dm:main_subject</td>\n",
       "      <td>dm:unit</td>\n",
       "      <td>p:P4224</td>\n",
       "      <td>dm:variable</td>\n",
       "      <td>dm:unit</td>\n",
       "      <td>dm:location/country</td>\n",
       "      <td>dm:qualifier</td>\n",
       "      <td>dm:location/admin1</td>\n",
       "      <td>dm:qualifier</td>\n",
       "      <td>dm:variable</td>\n",
       "      <td>dm:qualifier</td>\n",
       "      <td>dm:main_subject</td>\n",
       "      <td>dm:location/latitude</td>\n",
       "      <td>dm:variable</td>\n",
       "      <td>dm:main_subject</td>\n",
       "      <td>dm:main_subject</td>\n",
       "    </tr>\n",
       "    <tr>\n",
       "      <th>1</th>\n",
       "      <td>NaN</td>\n",
       "      <td>7/15/2005</td>\n",
       "      <td>Sorghum - Wholesale</td>\n",
       "      <td>100 KG</td>\n",
       "      <td>cereals and tubers</td>\n",
       "      <td>238</td>\n",
       "      <td>ETB</td>\n",
       "      <td>Ethiopia</td>\n",
       "      <td>Addis Ababa</td>\n",
       "      <td>1227</td>\n",
       "      <td>Addis Ababa</td>\n",
       "      <td>480</td>\n",
       "      <td>65</td>\n",
       "      <td>14</td>\n",
       "      <td>9</td>\n",
       "      <td>1</td>\n",
       "      <td>480_65_14_9</td>\n",
       "      <td>NaN</td>\n",
       "    </tr>\n",
       "    <tr>\n",
       "      <th>2</th>\n",
       "      <td>NaN</td>\n",
       "      <td>8/15/2005</td>\n",
       "      <td>Sorghum - Wholesale</td>\n",
       "      <td>100 KG</td>\n",
       "      <td>cereals and tubers</td>\n",
       "      <td>250</td>\n",
       "      <td>ETB</td>\n",
       "      <td>Ethiopia</td>\n",
       "      <td>Addis Ababa</td>\n",
       "      <td>1227</td>\n",
       "      <td>Addis Ababa</td>\n",
       "      <td>480</td>\n",
       "      <td>65</td>\n",
       "      <td>14</td>\n",
       "      <td>9</td>\n",
       "      <td>1</td>\n",
       "      <td>480_65_14_9</td>\n",
       "      <td>NaN</td>\n",
       "    </tr>\n",
       "    <tr>\n",
       "      <th>3</th>\n",
       "      <td>NaN</td>\n",
       "      <td>9/15/2005</td>\n",
       "      <td>Sorghum - Wholesale</td>\n",
       "      <td>100 KG</td>\n",
       "      <td>cereals and tubers</td>\n",
       "      <td>248</td>\n",
       "      <td>ETB</td>\n",
       "      <td>Ethiopia</td>\n",
       "      <td>Addis Ababa</td>\n",
       "      <td>1227</td>\n",
       "      <td>Addis Ababa</td>\n",
       "      <td>480</td>\n",
       "      <td>65</td>\n",
       "      <td>14</td>\n",
       "      <td>9</td>\n",
       "      <td>1</td>\n",
       "      <td>480_65_14_9</td>\n",
       "      <td>NaN</td>\n",
       "    </tr>\n",
       "    <tr>\n",
       "      <th>4</th>\n",
       "      <td>NaN</td>\n",
       "      <td>10/15/2005</td>\n",
       "      <td>Sorghum - Wholesale</td>\n",
       "      <td>100 KG</td>\n",
       "      <td>cereals and tubers</td>\n",
       "      <td>233</td>\n",
       "      <td>ETB</td>\n",
       "      <td>Ethiopia</td>\n",
       "      <td>Addis Ababa</td>\n",
       "      <td>1227</td>\n",
       "      <td>Addis Ababa</td>\n",
       "      <td>480</td>\n",
       "      <td>65</td>\n",
       "      <td>14</td>\n",
       "      <td>9</td>\n",
       "      <td>1</td>\n",
       "      <td>480_65_14_9</td>\n",
       "      <td>NaN</td>\n",
       "    </tr>\n",
       "    <tr>\n",
       "      <th>5</th>\n",
       "      <td>NaN</td>\n",
       "      <td>11/15/2005</td>\n",
       "      <td>Sorghum - Wholesale</td>\n",
       "      <td>100 KG</td>\n",
       "      <td>cereals and tubers</td>\n",
       "      <td>252</td>\n",
       "      <td>ETB</td>\n",
       "      <td>Ethiopia</td>\n",
       "      <td>Addis Ababa</td>\n",
       "      <td>1227</td>\n",
       "      <td>Addis Ababa</td>\n",
       "      <td>480</td>\n",
       "      <td>65</td>\n",
       "      <td>14</td>\n",
       "      <td>9</td>\n",
       "      <td>1</td>\n",
       "      <td>480_65_14_9</td>\n",
       "      <td>NaN</td>\n",
       "    </tr>\n",
       "    <tr>\n",
       "      <th>6</th>\n",
       "      <td>NaN</td>\n",
       "      <td>12/15/2005</td>\n",
       "      <td>Sorghum - Wholesale</td>\n",
       "      <td>100 KG</td>\n",
       "      <td>cereals and tubers</td>\n",
       "      <td>253</td>\n",
       "      <td>ETB</td>\n",
       "      <td>Ethiopia</td>\n",
       "      <td>Addis Ababa</td>\n",
       "      <td>1227</td>\n",
       "      <td>Addis Ababa</td>\n",
       "      <td>480</td>\n",
       "      <td>65</td>\n",
       "      <td>14</td>\n",
       "      <td>9</td>\n",
       "      <td>1</td>\n",
       "      <td>480_65_14_9</td>\n",
       "      <td>NaN</td>\n",
       "    </tr>\n",
       "    <tr>\n",
       "      <th>7</th>\n",
       "      <td>NaN</td>\n",
       "      <td>1/15/2006</td>\n",
       "      <td>Sorghum - Wholesale</td>\n",
       "      <td>100 KG</td>\n",
       "      <td>cereals and tubers</td>\n",
       "      <td>243</td>\n",
       "      <td>ETB</td>\n",
       "      <td>Ethiopia</td>\n",
       "      <td>Addis Ababa</td>\n",
       "      <td>1227</td>\n",
       "      <td>Addis Ababa</td>\n",
       "      <td>480</td>\n",
       "      <td>65</td>\n",
       "      <td>14</td>\n",
       "      <td>9</td>\n",
       "      <td>1</td>\n",
       "      <td>480_65_14_9</td>\n",
       "      <td>NaN</td>\n",
       "    </tr>\n",
       "    <tr>\n",
       "      <th>8</th>\n",
       "      <td>NaN</td>\n",
       "      <td>2/15/2006</td>\n",
       "      <td>Sorghum - Wholesale</td>\n",
       "      <td>100 KG</td>\n",
       "      <td>cereals and tubers</td>\n",
       "      <td>237</td>\n",
       "      <td>ETB</td>\n",
       "      <td>Ethiopia</td>\n",
       "      <td>Addis Ababa</td>\n",
       "      <td>1227</td>\n",
       "      <td>Addis Ababa</td>\n",
       "      <td>480</td>\n",
       "      <td>65</td>\n",
       "      <td>14</td>\n",
       "      <td>9</td>\n",
       "      <td>1</td>\n",
       "      <td>480_65_14_9</td>\n",
       "      <td>NaN</td>\n",
       "    </tr>\n",
       "    <tr>\n",
       "      <th>9</th>\n",
       "      <td>NaN</td>\n",
       "      <td>3/15/2006</td>\n",
       "      <td>Sorghum - Wholesale</td>\n",
       "      <td>100 KG</td>\n",
       "      <td>cereals and tubers</td>\n",
       "      <td>245</td>\n",
       "      <td>ETB</td>\n",
       "      <td>Ethiopia</td>\n",
       "      <td>Addis Ababa</td>\n",
       "      <td>1227</td>\n",
       "      <td>Addis Ababa</td>\n",
       "      <td>480</td>\n",
       "      <td>65</td>\n",
       "      <td>14</td>\n",
       "      <td>9</td>\n",
       "      <td>1</td>\n",
       "      <td>480_65_14_9</td>\n",
       "      <td>NaN</td>\n",
       "    </tr>\n",
       "  </tbody>\n",
       "</table>\n",
       "</div>"
      ],
      "text/plain": [
       "        Unnamed: 0        date               cmname     unit  \\\n",
       "0  dm:main_subject     dm:time      dm:main_subject  dm:unit   \n",
       "1              NaN   7/15/2005  Sorghum - Wholesale   100 KG   \n",
       "2              NaN   8/15/2005  Sorghum - Wholesale   100 KG   \n",
       "3              NaN   9/15/2005  Sorghum - Wholesale   100 KG   \n",
       "4              NaN  10/15/2005  Sorghum - Wholesale   100 KG   \n",
       "5              NaN  11/15/2005  Sorghum - Wholesale   100 KG   \n",
       "6              NaN  12/15/2005  Sorghum - Wholesale   100 KG   \n",
       "7              NaN   1/15/2006  Sorghum - Wholesale   100 KG   \n",
       "8              NaN   2/15/2006  Sorghum - Wholesale   100 KG   \n",
       "9              NaN   3/15/2006  Sorghum - Wholesale   100 KG   \n",
       "\n",
       "             category        price currency              country  \\\n",
       "0             p:P4224  dm:variable  dm:unit  dm:location/country   \n",
       "1  cereals and tubers          238      ETB             Ethiopia   \n",
       "2  cereals and tubers          250      ETB             Ethiopia   \n",
       "3  cereals and tubers          248      ETB             Ethiopia   \n",
       "4  cereals and tubers          233      ETB             Ethiopia   \n",
       "5  cereals and tubers          252      ETB             Ethiopia   \n",
       "6  cereals and tubers          253      ETB             Ethiopia   \n",
       "7  cereals and tubers          243      ETB             Ethiopia   \n",
       "8  cereals and tubers          237      ETB             Ethiopia   \n",
       "9  cereals and tubers          245      ETB             Ethiopia   \n",
       "\n",
       "        admname              adm1id       mktname        mktid          cmid  \\\n",
       "0  dm:qualifier  dm:location/admin1  dm:qualifier  dm:variable  dm:qualifier   \n",
       "1   Addis Ababa                1227   Addis Ababa          480            65   \n",
       "2   Addis Ababa                1227   Addis Ababa          480            65   \n",
       "3   Addis Ababa                1227   Addis Ababa          480            65   \n",
       "4   Addis Ababa                1227   Addis Ababa          480            65   \n",
       "5   Addis Ababa                1227   Addis Ababa          480            65   \n",
       "6   Addis Ababa                1227   Addis Ababa          480            65   \n",
       "7   Addis Ababa                1227   Addis Ababa          480            65   \n",
       "8   Addis Ababa                1227   Addis Ababa          480            65   \n",
       "9   Addis Ababa                1227   Addis Ababa          480            65   \n",
       "\n",
       "              ptid                  umid        catid               sn  \\\n",
       "0  dm:main_subject  dm:location/latitude  dm:variable  dm:main_subject   \n",
       "1               14                     9            1      480_65_14_9   \n",
       "2               14                     9            1      480_65_14_9   \n",
       "3               14                     9            1      480_65_14_9   \n",
       "4               14                     9            1      480_65_14_9   \n",
       "5               14                     9            1      480_65_14_9   \n",
       "6               14                     9            1      480_65_14_9   \n",
       "7               14                     9            1      480_65_14_9   \n",
       "8               14                     9            1      480_65_14_9   \n",
       "9               14                     9            1      480_65_14_9   \n",
       "\n",
       "           default  \n",
       "0  dm:main_subject  \n",
       "1              NaN  \n",
       "2              NaN  \n",
       "3              NaN  \n",
       "4              NaN  \n",
       "5              NaN  \n",
       "6              NaN  \n",
       "7              NaN  \n",
       "8              NaN  \n",
       "9              NaN  "
      ]
     },
     "execution_count": 46,
     "metadata": {},
     "output_type": "execute_result"
    }
   ],
   "source": [
    "df.head(10)"
   ]
  },
  {
   "cell_type": "markdown",
   "metadata": {},
   "source": [
    "Run the following cell to draw the most probable semantic model"
   ]
  },
  {
   "cell_type": "code",
   "execution_count": 47,
   "metadata": {},
   "outputs": [],
   "source": [
    "data = resp.json()\n",
    "data = {\n",
    "    \"prefixes\": data['prefixes'],\n",
    "    \"sm\": data['sms'][0],\n",
    "    \"columns\": df.columns.tolist()\n",
    "}"
   ]
  },
  {
   "cell_type": "code",
   "execution_count": 48,
   "metadata": {},
   "outputs": [],
   "source": [
    "resp2 = requests.post(URL + \"/v1/draw\", json=data, auth=auth, stream=all)\n",
    "assert resp2.status_code == 200"
   ]
  },
  {
   "cell_type": "code",
   "execution_count": 49,
   "metadata": {},
   "outputs": [
    {
     "data": {
      "image/png": "[encoded data removed]",
      "text/plain": [
       "<IPython.core.display.Image object>"
      ]
     },
     "metadata": {},
     "output_type": "display_data"
    }
   ],
   "source": [
    "display(Image(resp2.content))"
   ]
  }
 ],
 "metadata": {
  "kernelspec": {
   "display_name": "Python 3",
   "language": "python",
   "name": "python3"
  },
  "language_info": {
   "codemirror_mode": {
    "name": "ipython",
    "version": 3
   },
   "file_extension": ".py",
   "mimetype": "text/x-python",
   "name": "python",
   "nbconvert_exporter": "python",
   "pygments_lexer": "ipython3",
   "version": "3.7.6"
  }
 },
 "nbformat": 4,
 "nbformat_minor": 4
}
